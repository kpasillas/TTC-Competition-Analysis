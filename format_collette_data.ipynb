{
 "cells": [
  {
   "cell_type": "markdown",
   "source": [
    "# Collette Report (2021 & 2022)"
   ],
   "metadata": {}
  },
  {
   "cell_type": "code",
   "execution_count": null,
   "source": [
    "import numpy as np\r\n",
    "import pandas as pd \r\n",
    "import pandas_profiling\r\n",
    "from datetime import datetime\r\n",
    "from matplotlib import pyplot as plt"
   ],
   "outputs": [],
   "metadata": {}
  },
  {
   "cell_type": "markdown",
   "source": [
    "## Set Variables"
   ],
   "metadata": {}
  },
  {
   "cell_type": "code",
   "execution_count": null,
   "source": [
    "report_ID_2022 = 2022054\r\n",
    "today = datetime(year=2022, month=1, day=7)\r\n",
    "current_raw_file = 'Reports/collette_raw_data_01-07-22.csv'\r\n",
    "previous_report_file = 'Reports/collette_data_12-31-21.csv'\r\n",
    "new_report_file = 'Reports/collette_data_01-07-22.csv'"
   ],
   "outputs": [],
   "metadata": {}
  },
  {
   "cell_type": "markdown",
   "source": [
    "## OpCode Dictionary"
   ],
   "metadata": {}
  },
  {
   "cell_type": "code",
   "execution_count": null,
   "source": [
    "collette_trips = {\r\n",
    "    \"Alaska and The Yukon featuring the Yukon, Fairbanks and Denali\" : \"ColletteAY\",\r\n",
    "    \"Alaska Discovery Land & Cruise featuring a 7-night Princess Cruise\" : \"ColletteADLC\",\r\n",
    "    \"Alaska: America's Last Frontier\" : \"ColletteAALF\",\r\n",
    "    \"Alaska's Northern Lights\" : \"ColletteANL\",\r\n",
    "    \"Alaska's Northern Lights featuring the Iditarod Race\" : \"ColletteANLI\",\r\n",
    "    \"Albuquerque Balloon Fiesta\" : \"ColletteABF\",\r\n",
    "    \"America's Cowboy Country\" : \"ColletteACC\",\r\n",
    "    \"America's Music Cities featuring New Orleans Jazz Fest, Memphis & Nashville\" : \"ColletteAMCJF\",\r\n",
    "    \"America's Music Cities featuring Nashville, Memphis & New Orleans Jazz Fest\" : \"ColletteAMCJF\",\r\n",
    "    \"America's Music Cities featuring Nashville, Memphis & New Orleans\" : \"ColletteAMC\",\r\n",
    "    \"America's Music Cities featuring New Orleans, Memphis & Nashville\" : \"ColletteAMC\",\r\n",
    "    \"America's Music Cities Holiday featuring New Orleans, Memphis & Nashville\" : \"ColletteAMCH\",\r\n",
    "    \"America's National Parks & Denver\" : \"ColletteANPD\",\r\n",
    "    \"Autumn in Vermont featuring Lake Champlain and the Adirondacks\" : \"ColletteAV\",\r\n",
    "    \"Bluegrass Country & the Smoky Mountains featuring Louisville, Gatlinburg & Asheville\" : \"ColletteBCSM\",\r\n",
    "    \"Bluegrass Country & the Smoky Mountains featuring Louisville, Lexington, Gatlinburg & Asheville\" : \"ColletteBCSM\",\r\n",
    "    \"California Dreamin': Monterey, Yosemite & Napa\" : \"ColletteCD\",\r\n",
    "    \"Canadian Rockies & Glacier National Park\" : \"ColletteCRGNP\",\r\n",
    "    \"Canadian Rockies & Glacier National Park featuring the Calgary Stampede\" : \"ColletteCRGNPCS\",\r\n",
    "    \"Canadian Rockies by Train\" : \"ColletteCRT\",\r\n",
    "    \"Canadian Rockies by Train featuring the Calgary Stampede\" : \"ColletteCRTCS\",\r\n",
    "    \"Canadian Rockies featuring Rocky Mountaineer\" : \"ColletteCRRM\",\r\n",
    "    \"Canadian Rockies featuring Rocky Mountaineer and Calgary Stampede\" : \"ColletteCRRMCS\",\r\n",
    "    \"Canyon Country featuring Arizona & Utah\" : \"ColletteCC\",\r\n",
    "    \"Charming French Canada featuring Montreal, Quebec City, Charlevoix and Montebello\" : \"ColletteCFC\",\r\n",
    "    \"Colors of New England featuring Coastal Maine\" : \"ColletteCNE\",\r\n",
    "    \"Colours of New England featuring Coastal Maine\" : \"ColletteCNE\",\r\n",
    "    \"Colors of New England featuring Portland, Maine\" : \"ColletteCNEP\",\r\n",
    "    \"Colours of New England featuring Portland, Maine\" : \"ColletteCNEP\",\r\n",
    "    \"Costa Rica: A World of Nature featuring Tortuguero National Park, Arenal Volcano & Manuel Antonio National Park\" : \"ColletteCR\",\r\n",
    "    \"Discover Panama: The Land Between the Seas\" : \"ColletteDP\",\r\n",
    "    \"Experience Colombia\" : \"ColletteEC\",\r\n",
    "    \"Grand Hawaiian Adventure Four Islands featuring Oahu, Big Island, Maui and Kauai\" : \"ColletteGHA\",\r\n",
    "    \"Hawaiian Adventure Three Islands featuring Oahu, Big Island and Maui\" : \"ColletteHA\",\r\n",
    "    \"Hawaiian Adventure  Three Islands featuring Oahu, Kauai and Maui\" : \"ColletteHA\",\r\n",
    "    \"Heritage of America\" : \"ColletteHOA\",\r\n",
    "    \"Heritage of America featuring the Virginia International Tattoo\" : \"ColletteHOAVT\",\r\n",
    "    \"Highlights of South America featuring Buenos Aires, Iguazu Falls & Rio de Janeiro\" : \"ColletteHSA\",\r\n",
    "    \"Highlights of South America featuring the Andean Lakes Crossing, Buenos Aires & Rio de Janeiro\" : \"ColletteHSAAL\",\r\n",
    "    \"Islands of New England\" : \"ColletteINE\",\r\n",
    "    \"Journey Through South America featuring Santiago, Andean Lakes Crossing & Rio de Janeiro\" : \"ColletteJTSA\",\r\n",
    "    \"Journey Through South America with Peru featuring Machu Picchu, Andean Lakes Crossing & Rio de Janeiro\" : \"ColletteJTSAP\",\r\n",
    "    \"Machu Picchu & Galapagos Wonders featuring a 4-Night Cruise\" : \"ColletteMPGW\",\r\n",
    "    \"Machu Picchu & the Galapagos Islands\" : \"ColletteMPGI\",\r\n",
    "    \"Machu Picchu & the Galapagos Islands featuring a 3-Night Cruise & 1-Night Island Stay\" : \"ColletteMPGICI\",\r\n",
    "    \"Mackinac Island\" : \"ColletteMI\",\r\n",
    "    \"Mackinac Island featuring the Grand Hotel & Chicago\" : \"ColletteMI\",\r\n",
    "    \"Mackinac Island featuring the Grand Hotel and the Tulip Time Festival\" : \"ColletteMITF\",\r\n",
    "    \"Maritimes Coastal Wonders featuring the Cabot Trail\" : \"ColletteMCW\",\r\n",
    "    \"Maritimes Coastal Wonders  featuring the Royal Nova Scotia International Tattoo\" : \"ColletteMCWT\",\r\n",
    "    \"Montana: Exploring Big Sky Country featuring Yellowstone and Glacier National Parks\" : \"ColletteMBS\",\r\n",
    "    \"Nashville & the Smoky Mountains Holiday featuring Gatlinburg & Asheville\" : \"ColletteNSMH\",\r\n",
    "    \"National Parks of America\" : \"ColletteNPA\",\r\n",
    "    \"Pacific Northwest & California featuring Washington, Oregon and California\" : \"CollettePNWC\",\r\n",
    "    \"Painted Canyons of the West featuring Utah’s Five National Parks\" : \"CollettePCW\",\r\n",
    "    \"Patagonia: Edge of the World featuring Argentina, Chile, and a 4-Night Patagonia Cruise\" : \"CollettePEW\",\r\n",
    "    \"Peru: Ancient Land of Mysteries featuring Puno\" : \"CollettePALM\",\r\n",
    "    \"Peru: From Lima to Lake Titicaca\" : \"CollettePLLT\",\r\n",
    "    \"Peru: From Lima to the Sacred Valley\" : \"CollettePLSV\",\r\n",
    "    \"Peru: Machu Picchu and Lake Titicaca\" : \"CollettePMPLT\",\r\n",
    "    \"Roaming Coastal Maine featuring Portland, Acadia & Penobscot Bay\" : \"ColletteRCM\",\r\n",
    "    \"Southern Charm featuring Charleston, Savannah & Jekyll Island\" : \"ColletteSC\",\r\n",
    "    \"Southern Charm featuring Charleston, Jekyll Island & Savannah\" : \"ColletteSC\",\r\n",
    "    \"Southern Charm featuring Jekyll Island, Savannah & Charleston\" : \"ColletteSC\",\r\n",
    "    \"Southern Charm Holiday\" : \"ColletteSCH\",\r\n",
    "    \"Spotlight on Boston\" : \"ColletteSB\",\r\n",
    "    \"Spotlight on Montreal\" : \"ColletteSM\",\r\n",
    "    \"Spotlight on Nashville\" : \"ColletteSN\",\r\n",
    "    \"Spotlight on New Orleans\" : \"ColletteSNO\",\r\n",
    "    \"Spotlight on New Orleans featuring Carnival\" : \"ColletteNOC\",\r\n",
    "    \"Spotlight on New Orleans featuring Jazz Fest\" : \"ColletteSNOJF\",\r\n",
    "    \"Spotlight on New Orleans Holiday\" : \"ColletteSNOH\",\r\n",
    "    \"Spotlight on New York City\" : \"ColletteSNYC\",\r\n",
    "    \"Spotlight on New York City Holiday\" : \"ColletteSNYCH\",\r\n",
    "    \"Spotlight on San Antonio\" : \"ColletteSSA\",\r\n",
    "    \"Spotlight on San Antonio featuring the San Antonio Stock Show & Rodeo\" : \"ColletteSSASSR\",\r\n",
    "    \"Spotlight on San Antonio Holiday\" : \"ColletteSSAH\",\r\n",
    "    \"Spotlight on Santa Fe\" : \"ColletteSSF\",\r\n",
    "    \"Spotlight on Santa Fe Holiday\" : \"ColletteSSFH\",\r\n",
    "    \"Spotlight on Savannah\" : \"ColletteSS\",\r\n",
    "    \"Spotlight on South Dakota featuring Mount Rushmore & The Badlands\" : \"ColletteSSD\",\r\n",
    "    \"Spotlight on Washington, D.C. Exploring America's Capital\" : \"ColletteSWDC\",\r\n",
    "    \"The Best of Eastern Canada featuring Montreal, Quebec City, Ottawa, Niagara Falls & Toronto\" : \"ColletteBEC\",\r\n",
    "    \"The Best of Eastern Canada featuring Niagara Falls, Ottawa, Quebec City & Montreal\" : \"ColletteBEC\",\r\n",
    "    \"The Colorado Rockies featuring National Parks and Historic Trains\" : \"ColletteCRNP\",\r\n",
    "    \"The Complete South America featuring Peru & Machu Picchu\" : \"ColletteCSA\",\r\n",
    "    \"Tropical Costa Rica\" : \"ColletteTCR\",\r\n",
    "    \"Washington, D.C., Niagara Falls & New York City\" : \"ColletteWDCNFNYC\",\r\n",
    "    \"Western Canada’s Rockies, Lakes & Wine Country\" : \"ColletteWCR\",\r\n",
    "    \"Western Canada’s Rockies, Lakes & Wine Country featuring the Calgary Stampede\" : \"ColletteWCRS\",\r\n",
    "    \"Winter in Yellowstone\" : \"ColletteWY\",\r\n",
    "    \"Wonders of Newfoundland featuring Lighthouses, Iceburg Alley, & Gros Morne\" : \"ColletteWNF\"\r\n",
    "}"
   ],
   "outputs": [],
   "metadata": {
    "tags": []
   }
  },
  {
   "cell_type": "markdown",
   "source": [
    "## Look up OpCode"
   ],
   "metadata": {}
  },
  {
   "cell_type": "code",
   "execution_count": null,
   "source": [
    "orig_df = pd.read_csv(current_raw_file, encoding='cp1252')\r\n",
    "orig_df = orig_df[orig_df['DepartureID'] != 'DepartureID']\r\n",
    "OpCode = orig_df['Trip Name'].apply(lambda x : collette_trips[x]) + orig_df['DepartureID'].str[-3:-1]\r\n",
    "orig_df['DepartureID'] = OpCode + \"-\" + orig_df['DepartureID'].str.split(pat='-', expand=True)[1]\r\n",
    "\r\n",
    "orig_df"
   ],
   "outputs": [],
   "metadata": {}
  },
  {
   "cell_type": "markdown",
   "source": [
    "## Build Current Data"
   ],
   "metadata": {}
  },
  {
   "cell_type": "code",
   "execution_count": null,
   "source": [
    "curr_df = orig_df.drop_duplicates(subset=['DepartureID', 'field']).pivot(index='DepartureID', columns='field', values='value').reset_index()\r\n",
    "curr_df = curr_df[['DepartureID', 'DepartureDate', 'ActualPriceUSD', 'OriginalPriceUSD', 'ActualPriceAUD', 'OriginalPriceAUD', 'Available', 'Type', 'Status', 'Notes']]\r\n",
    "\r\n",
    "curr_df['DepartureDate'] = pd.to_datetime(curr_df['DepartureDate'], format='%d-%b-%Y')\r\n",
    "curr_df.sort_values(by=['DepartureDate'], ascending=True, inplace=True)\r\n",
    "curr_df = curr_df.loc[curr_df['DepartureDate'] < datetime(year=2023, month=1, day=1, hour=0, minute=0)]\r\n",
    "\r\n",
    "report_ID = curr_df['DepartureDate'].apply(lambda x : None if x < datetime(year=2022, month=1, day=1, hour=0, minute=0) else report_ID_2022)\r\n",
    "curr_df.insert(0, 'ReportID', report_ID)\r\n",
    "\r\n",
    "op_code = curr_df['DepartureID'].str.split(pat='-', expand=True)[0]\r\n",
    "\r\n",
    "curr_df.insert(11, 'Pax', np.NaN)\r\n",
    "\r\n",
    "curr_df['ActualPriceUSD'] = curr_df['ActualPriceUSD'].str.replace('$', '').astype(float)\r\n",
    "curr_df['OriginalPriceUSD'] = curr_df['OriginalPriceUSD'].str.replace('$', '').astype(float)\r\n",
    "curr_df['ActualPriceAUD'] = curr_df['ActualPriceAUD'].str.replace('$', '').astype(float)\r\n",
    "curr_df['OriginalPriceAUD'] = curr_df['OriginalPriceAUD'].str.replace('$', '').astype(float)\r\n",
    "\r\n",
    "booleanDictionary = {'True': True, 'False': False}\r\n",
    "curr_df['Available'] = curr_df['Available'].replace(booleanDictionary)\r\n",
    "\r\n",
    "curr_df"
   ],
   "outputs": [],
   "metadata": {}
  },
  {
   "cell_type": "markdown",
   "source": [
    "## Build Previous Data"
   ],
   "metadata": {}
  },
  {
   "cell_type": "code",
   "execution_count": null,
   "source": [
    "prev_df = pd.read_csv(previous_report_file)\r\n",
    "\r\n",
    "prev_df['ReportID'] = prev_df['ReportID'].astype(int)\r\n",
    "\r\n",
    "departure_code = prev_df['DepartureID'].str.split(pat='-', expand=True)[1]\r\n",
    "day_numbers = departure_code.str[0:2]\r\n",
    "get_char = lambda x : str(ord(x[2]) - 64)\r\n",
    "month_numbers = departure_code.apply(get_char)\r\n",
    "year_numbers = departure_code.str[3:5]\r\n",
    "departure_date = pd.to_datetime(day_numbers + '-' + month_numbers + '-' + year_numbers, format='%d-%m-%y')\r\n",
    "\r\n",
    "prev_df.insert(2, 'DepartureDate', departure_date)\r\n",
    "\r\n",
    "prev_df = prev_df.loc[prev_df['DepartureDate'] >= datetime(year=2022, month=1, day=1, hour=0, minute=0)]\r\n",
    "\r\n",
    "prev_df.sort_values(by=['DepartureDate'], ascending=True, inplace=True)\r\n",
    "\r\n",
    "prev_df['Available'] = prev_df['Available'].astype(bool)\r\n",
    "prev_df['Notes'] = prev_df['Notes'].astype(str)\r\n",
    "prev_df['Notes'] = prev_df['Notes'].str.replace('nan', '')\r\n",
    "\r\n",
    "prev_df"
   ],
   "outputs": [],
   "metadata": {}
  },
  {
   "cell_type": "markdown",
   "source": [
    "## Check Departure/Status Count (2022)"
   ],
   "metadata": {}
  },
  {
   "cell_type": "code",
   "execution_count": null,
   "source": [
    "curr_plot_df = curr_df['DepartureID'].loc[curr_df['DepartureDate'].dt.year == 2022].groupby([curr_df['DepartureDate'].dt.month, curr_df['Status']]).count()\r\n",
    "prev_plot_df = prev_df['DepartureID'].loc[prev_df['DepartureDate'].dt.year == 2022].groupby([prev_df['DepartureDate'].dt.month, prev_df['Status']]).count()\r\n",
    "plot_df = pd.concat([prev_plot_df, curr_plot_df], axis=1)\r\n",
    "plot_df.columns = ['Previous', 'Current']\r\n",
    "plot_df = plot_df.unstack(level=-1, fill_value=0)\r\n",
    "\r\n",
    "months = plot_df.index\r\n",
    "month_labels = ['Jan', 'Feb', 'Mar', 'Apr', 'May', 'Jun', 'Jul', 'Aug', 'Sep', 'Oct', 'Nov', 'Dec']\r\n",
    "\r\n",
    "\r\n",
    "if 'Available' in plot_df['Previous'].columns:\r\n",
    "    previous_available_counts = plot_df.loc[:, ('Previous', 'Available')]\r\n",
    "    previous_available_counts.loc[previous_available_counts.isna()] = 0\r\n",
    "else:\r\n",
    "    previous_available_counts = 0\r\n",
    "\r\n",
    "if 'Limited' in plot_df['Previous'].columns:\r\n",
    "    previous_limited_counts = plot_df.loc[:, ('Previous', 'Limited')]\r\n",
    "    previous_limited_counts.loc[previous_limited_counts.isna()] = 0\r\n",
    "else:\r\n",
    "    previous_limited_counts = 0\r\n",
    "\r\n",
    "if 'Sold Out' in plot_df['Previous'].columns:\r\n",
    "    previous_soldout_counts = plot_df.loc[:, ('Previous', 'Sold Out')]\r\n",
    "    previous_soldout_counts.loc[previous_soldout_counts.isna()] = 0\r\n",
    "else:\r\n",
    "    previous_soldout_counts = 0\r\n",
    "\r\n",
    "if 'Cancelled' in plot_df['Previous'].columns:\r\n",
    "    previous_cancelled_counts = plot_df.loc[:, ('Previous', 'Cancelled')]\r\n",
    "    previous_cancelled_counts.loc[previous_cancelled_counts.isna()] = 0\r\n",
    "else:\r\n",
    "    previous_cancelled_counts = 0\r\n",
    "\r\n",
    "if 'Cancelled / Sold Out' in plot_df['Previous'].columns:\r\n",
    "    previous_removed_counts = plot_df.loc[:, ('Previous', 'Cancelled / Sold Out')]\r\n",
    "    previous_removed_counts.loc[previous_removed_counts.isna()] = 0\r\n",
    "else:\r\n",
    "    previous_removed_counts = 0\r\n",
    "\r\n",
    "\r\n",
    "if 'Available' in plot_df['Current'].columns:\r\n",
    "    current_available_counts = plot_df.loc[:, ('Current', 'Available')]\r\n",
    "    current_available_counts.loc[current_available_counts.isna()] = 0\r\n",
    "else:\r\n",
    "    current_available_counts = 0\r\n",
    "\r\n",
    "if 'Limited' in plot_df['Current'].columns:\r\n",
    "    current_limited_counts = plot_df.loc[:, ('Current', 'Limited')]\r\n",
    "    current_limited_counts.loc[current_limited_counts.isna()] = 0\r\n",
    "else:\r\n",
    "    current_limited_counts = 0\r\n",
    "\r\n",
    "if 'Sold Out' in plot_df['Current'].columns:\r\n",
    "    current_soldout_counts = plot_df.loc[:, ('Current', 'Sold Out')]\r\n",
    "    current_soldout_counts.loc[current_soldout_counts.isna()] = 0\r\n",
    "else:\r\n",
    "    current_soldout_counts = 0\r\n",
    "\r\n",
    "if 'Cancelled' in plot_df['Current'].columns:\r\n",
    "    current_cancelled_counts = plot_df.loc[:, ('Current', 'Cancelled')]\r\n",
    "    current_cancelled_counts.loc[current_cancelled_counts.isna()] = 0\r\n",
    "else:\r\n",
    "    current_cancelled_counts = 0\r\n",
    "\r\n",
    "if 'Cancelled / Sold Out' in plot_df['Current'].columns:\r\n",
    "    current_removed_counts = plot_df.loc[:, ('Current', 'Cancelled / Sold Out')]\r\n",
    "    current_removed_counts.loc[current_cancelled_counts.isna()] = 0\r\n",
    "else:\r\n",
    "    current_removed_counts = 0\r\n",
    "\r\n",
    "\r\n",
    "plt.style.use('fivethirtyeight')\r\n",
    "width = 0.35\r\n",
    "fig, ax = plt.subplots()\r\n",
    "\r\n",
    "ax.bar(months - width/2, previous_available_counts, width=width, color='#1666BE', label='Available')\r\n",
    "ax.bar(months - width/2, previous_limited_counts, width=width, color='#418C5C', bottom=previous_available_counts, label='Limited')\r\n",
    "ax.bar(months - width/2, previous_soldout_counts, width=width, color='#CE8D48', bottom=previous_available_counts + previous_limited_counts, label='Sold Out')\r\n",
    "ax.bar(months - width/2, previous_cancelled_counts, width=width, color='#A4A49C', bottom=previous_available_counts + previous_limited_counts + previous_soldout_counts, label='Cancelled')\r\n",
    "ax.bar(months - width/2, previous_removed_counts, width=width, color='#AD1E45', bottom=previous_available_counts + previous_limited_counts + previous_soldout_counts + previous_cancelled_counts, label='Removed from Website')\r\n",
    "\r\n",
    "ax.bar(months + width/2, current_available_counts, width=width, color='#1666BE')\r\n",
    "ax.bar(months + width/2, current_limited_counts, width=width, color='#418C5C', bottom=current_available_counts)\r\n",
    "ax.bar(months + width/2, current_soldout_counts, width=width, color='#CE8D48', bottom=current_available_counts + current_limited_counts)\r\n",
    "ax.bar(months + width/2, current_cancelled_counts, width=width, color='#A4A49C', bottom=current_available_counts + current_limited_counts + current_soldout_counts)\r\n",
    "\r\n",
    "plt.xticks(ticks=months, labels=month_labels)\r\n",
    "plt.legend()\r\n",
    "plt.show()"
   ],
   "outputs": [],
   "metadata": {}
  },
  {
   "cell_type": "markdown",
   "source": [
    "## Check Departure/Status Changes"
   ],
   "metadata": {}
  },
  {
   "cell_type": "code",
   "execution_count": null,
   "source": [
    "curr_status_df = curr_df[['DepartureID', 'DepartureDate', 'Status']].set_index(['DepartureID', 'DepartureDate'])\r\n",
    "prev_status_df = prev_df[['DepartureID', 'DepartureDate', 'Status']].set_index(['DepartureID', 'DepartureDate'])\r\n",
    "status_df = pd.concat([prev_status_df, curr_status_df], axis=1).reset_index('DepartureDate').sort_values(by='DepartureDate')\r\n",
    "status_df.columns = ['DepartureDate', 'Previous', 'Current']"
   ],
   "outputs": [],
   "metadata": {}
  },
  {
   "cell_type": "markdown",
   "source": [
    "### New Departures"
   ],
   "metadata": {}
  },
  {
   "cell_type": "code",
   "execution_count": null,
   "source": [
    "new_departures = status_df.loc[status_df['Previous'].isna()]\r\n",
    "\r\n",
    "new_departures"
   ],
   "outputs": [],
   "metadata": {
    "tags": []
   }
  },
  {
   "cell_type": "markdown",
   "source": [
    "### Export New Departures"
   ],
   "metadata": {}
  },
  {
   "cell_type": "code",
   "execution_count": null,
   "source": [
    "if new_departures.empty:\r\n",
    "    print('No new departures...')\r\n",
    "\r\n",
    "else:\r\n",
    "    export_departures = new_departures['DepartureDate'].reset_index()\r\n",
    "    split_id = export_departures['DepartureID'].str.split(\"-\", expand=True)\r\n",
    "    export_departures.insert(1, 'OpCode', split_id[0])\r\n",
    "    export_departures.insert(2, 'DepartureCode', split_id[1])\r\n",
    "    export_departures.insert(4, 'Season', export_departures['DepartureDate'].dt.year)\r\n",
    "    export_departures['DepartureDate'] = export_departures['DepartureDate'].dt.strftime('%d-%b-%Y')\r\n",
    "    export_departures.set_index('DepartureID', inplace=True)\r\n",
    "\r\n",
    "    export_departures.to_csv('Reports/collette_new_departures.csv')"
   ],
   "outputs": [],
   "metadata": {
    "tags": []
   }
  },
  {
   "cell_type": "markdown",
   "source": [
    "### Removed Departures"
   ],
   "metadata": {}
  },
  {
   "cell_type": "code",
   "execution_count": null,
   "source": [
    "removed_departures = status_df.loc[(status_df['Current'].isna()) & (status_df['DepartureDate'] > today)]\r\n",
    "\r\n",
    "removed_departures"
   ],
   "outputs": [],
   "metadata": {}
  },
  {
   "cell_type": "markdown",
   "source": [
    "### Status Changes"
   ],
   "metadata": {}
  },
  {
   "cell_type": "code",
   "execution_count": null,
   "source": [
    "changed_departures = status_df.loc[(status_df['Previous'] != status_df['Current']) & (status_df['Current'].notna())]\r\n",
    "\r\n",
    "changed_departures"
   ],
   "outputs": [],
   "metadata": {}
  },
  {
   "cell_type": "markdown",
   "source": [
    "## Filter Previous-Past Departures\n",
    "\n",
    "### Departure date < Today"
   ],
   "metadata": {}
  },
  {
   "cell_type": "code",
   "execution_count": null,
   "source": [
    "prev_past_df = prev_df[prev_df['DepartureDate'] <= today].sort_values(by=['DepartureDate'], ascending=True)\r\n",
    "\r\n",
    "prev_past_df"
   ],
   "outputs": [],
   "metadata": {}
  },
  {
   "cell_type": "markdown",
   "source": [
    "## Filter Previous-Future Departures\n",
    "\n",
    "### Departure date > Today\n",
    "#### If previously 'Available' --> Status = 'Cancelled / Sold Out'"
   ],
   "metadata": {}
  },
  {
   "cell_type": "code",
   "execution_count": null,
   "source": [
    "prev_future_df = prev_df.loc[prev_df['DepartureDate'] > today].sort_values(by=['DepartureDate'], ascending=True)\r\n",
    "filt = (prev_future_df['Available'] == True)\r\n",
    "prev_future_df.loc[filt, ['Available', 'Status', 'Notes']] = [False, 'Cancelled / Sold Out', 'Removed from website']\r\n",
    "\r\n",
    "prev_future_df"
   ],
   "outputs": [],
   "metadata": {}
  },
  {
   "cell_type": "markdown",
   "source": [
    "## Combine Current and Previous-Past Data"
   ],
   "metadata": {}
  },
  {
   "cell_type": "code",
   "execution_count": null,
   "source": [
    "new_df = pd.concat([curr_df, prev_past_df]).sort_values(by=['DepartureDate'], ascending=True)\r\n",
    "\r\n",
    "new_df"
   ],
   "outputs": [],
   "metadata": {}
  },
  {
   "cell_type": "markdown",
   "source": [
    "## Combine Current and Previous-Future Data"
   ],
   "metadata": {}
  },
  {
   "cell_type": "code",
   "execution_count": null,
   "source": [
    "new_df = pd.concat([new_df, prev_future_df]).sort_values(by=['ReportID', 'DepartureID'], ascending=True).drop_duplicates(subset='DepartureID', keep='last').sort_values(by='DepartureDate', ascending=True)\r\n",
    "\r\n",
    "new_df"
   ],
   "outputs": [],
   "metadata": {}
  },
  {
   "cell_type": "markdown",
   "source": [
    "## Check Mixed Data"
   ],
   "metadata": {}
  },
  {
   "cell_type": "code",
   "execution_count": null,
   "source": [
    "# prof = pandas_profiling.ProfileReport(new_df)\r\n",
    "# prof.to_file(output_file='gate1_report.html')"
   ],
   "outputs": [],
   "metadata": {}
  },
  {
   "cell_type": "markdown",
   "source": [
    "## Export CSV"
   ],
   "metadata": {}
  },
  {
   "cell_type": "code",
   "execution_count": null,
   "source": [
    "new_df.drop(columns='ReportID', inplace=True)\r\n",
    "\r\n",
    "report_ID = new_df['DepartureDate'].apply(lambda x : None if x < datetime(year=2022, month=1, day=1, hour=0, minute=0) else report_ID_2022)\r\n",
    "new_df.insert(0, 'ReportID', report_ID)\r\n",
    "\r\n",
    "new_df.drop(columns='DepartureDate', inplace=True)\r\n",
    "new_df.set_index(['ReportID', 'DepartureID'], verify_integrity=True, inplace=True)\r\n",
    "\r\n",
    "new_df.to_csv(new_report_file)"
   ],
   "outputs": [],
   "metadata": {}
  }
 ],
 "metadata": {
  "language_info": {
   "name": "python",
   "version": "3.8.2",
   "mimetype": "text/x-python",
   "codemirror_mode": {
    "name": "ipython",
    "version": 3
   },
   "pygments_lexer": "ipython3",
   "nbconvert_exporter": "python",
   "file_extension": ".py"
  },
  "orig_nbformat": 2,
  "file_extension": ".py",
  "mimetype": "text/x-python",
  "name": "python",
  "npconvert_exporter": "python",
  "pygments_lexer": "ipython3",
  "version": 3,
  "kernelspec": {
   "name": "python3",
   "display_name": "Python 3.8.2 32-bit ('.venv': venv)"
  },
  "interpreter": {
   "hash": "b8ee509b47a9f1d1822afb1bbf7814957dd270597a3037792fa5460c2fc2fe4d"
  }
 },
 "nbformat": 4,
 "nbformat_minor": 2
}