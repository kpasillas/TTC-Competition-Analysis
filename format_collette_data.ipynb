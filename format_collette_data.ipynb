{
 "cells": [
  {
   "cell_type": "markdown",
   "metadata": {},
   "source": [
    "# Collette Report"
   ]
  },
  {
   "cell_type": "code",
   "execution_count": null,
   "metadata": {},
   "outputs": [],
   "source": [
    "import numpy as np\n",
    "import pandas as pd\n",
    "import pandas_profiling\n",
    "from datetime import datetime\n",
    "from matplotlib import pyplot as plt"
   ]
  },
  {
   "cell_type": "markdown",
   "metadata": {},
   "source": [
    "## Set Variables"
   ]
  },
  {
   "cell_type": "code",
   "execution_count": null,
   "metadata": {},
   "outputs": [],
   "source": [
    "report_ID = 2020090\n",
    "today = datetime(year=2020, month=9, day=18)\n",
    "current_raw_file = 'Reports/collette_raw_data_09-18-20.csv'\n",
    "previous_report_file = 'Reports/collette_data_2020_09-11-20.csv'\n",
    "new_report_file = 'Reports/collette_data_2020_09-18-20.csv'"
   ]
  },
  {
   "cell_type": "markdown",
   "metadata": {},
   "source": [
    "## Build Current Data"
   ]
  },
  {
   "cell_type": "code",
   "execution_count": null,
   "metadata": {},
   "outputs": [],
   "source": [
    "curr_df = pd.read_csv(current_raw_file).drop_duplicates(subset=['DepartureID', 'field']).pivot(index='DepartureID', columns='field', values='value').reset_index()\n",
    "curr_df = curr_df[['DepartureID', 'DepartureDate', 'ActualPriceUSD', 'OriginalPriceUSD', 'ActualPriceAUD', 'OriginalPriceAUD', 'Available', 'Status', 'Notes']]\n",
    "curr_df.insert(0, 'ReportID', report_ID)\n",
    "curr_df.insert(8, 'Type', '')\n",
    "curr_df.insert(10, 'Pax', np.NaN)\n",
    "curr_df['DepartureDate'] = pd.to_datetime(curr_df['DepartureDate'], format='%d-%b-%Y')\n",
    "curr_df.sort_values(by=['DepartureDate'], ascending=True, inplace=True)\n",
    "old_departure_code = curr_df['DepartureID'].str.split(pat='-', expand=True)[1]\n",
    "fixed_departure_id = curr_df['DepartureID'].str.split(pat='-', expand=True)[0] + '-' + old_departure_code.str[0:3] + old_departure_code.str[-3:]\n",
    "curr_df['DepartureID'] = fixed_departure_id\n",
    "curr_df.loc[curr_df['ActualPriceUSD'] == 'Call For Air', 'ActualPriceUSD'] = np.NaN\n",
    "curr_df['ActualPriceUSD'] = curr_df['ActualPriceUSD'].str.replace('$', '').astype(float)\n",
    "curr_df.loc[curr_df['OriginalPriceUSD'] == 'Call For Air', 'OriginalPriceUSD'] = np.NaN\n",
    "curr_df['OriginalPriceUSD'] = curr_df['OriginalPriceUSD'].str.replace('$', '').astype(float)\n",
    "curr_df['ActualPriceAUD'] = curr_df['ActualPriceAUD'].str.replace('$', '').astype(float)\n",
    "curr_df['OriginalPriceAUD'] = curr_df['OriginalPriceAUD'].str.replace('$', '').astype(float)\n",
    "curr_df.dropna(subset=['Available'], inplace=True)\n",
    "booleanDictionary = {'True': True, 'False': False}\n",
    "curr_df['Available'] = curr_df['Available'].replace(booleanDictionary)\n",
    "curr_df = curr_df.loc[curr_df['DepartureDate'] < datetime(year=2021, month=1, day=1, hour=0, minute=0)]\n",
    "curr_df.loc[curr_df['Status'] == 'Expires 04/30/2020', 'Status'] = 'Available'\n",
    "curr_df"
   ]
  },
  {
   "cell_type": "markdown",
   "metadata": {},
   "source": [
    "## Build Previous Data"
   ]
  },
  {
   "cell_type": "code",
   "execution_count": null,
   "metadata": {},
   "outputs": [],
   "source": [
    "prev_df = pd.read_csv(previous_report_file)\n",
    "prev_df['ReportID'] = prev_df['ReportID'].astype(int)\n",
    "departure_code = prev_df['DepartureID'].str.split(pat='-', expand=True)[1]\n",
    "day_numbers = departure_code.str[0:2]\n",
    "get_char = lambda x : str(ord(x[2]) - 64)\n",
    "month_numbers = departure_code.apply(get_char)\n",
    "year_numbers = departure_code.str[3:5]\n",
    "departure_date = pd.to_datetime(day_numbers + '-' + month_numbers + '-' + year_numbers, format='%d-%m-%y')\n",
    "prev_df.insert(2, 'DepartureDate', departure_date)\n",
    "prev_df.sort_values(by=['DepartureDate'], ascending=True, inplace=True)\n",
    "# prev_df['ActualPriceUSD'] = prev_df['ActualPriceUSD'].str.replace('$', '')\n",
    "# prev_df['ActualPriceUSD'] = prev_df['ActualPriceUSD'].str.replace(',', '').astype(float)\n",
    "# prev_df['OriginalPriceUSD'] = prev_df['OriginalPriceUSD'].str.replace('$', '')\n",
    "# prev_df['OriginalPriceUSD'] = prev_df['OriginalPriceUSD'].str.replace(',', '').astype(float)\n",
    "# prev_df['ActualPriceAUD'] = prev_df['ActualPriceAUD'].str.replace('$', '')\n",
    "# prev_df['ActualPriceAUD'] = prev_df['ActualPriceAUD'].str.replace(',', '').astype(float)\n",
    "# prev_df['OriginalPriceAUD'] = prev_df['OriginalPriceAUD'].str.replace('$', '')\n",
    "# prev_df['OriginalPriceAUD'] = prev_df['OriginalPriceAUD'].str.replace(',', '').astype(float)\n",
    "prev_df['Available'] = prev_df['Available'].astype(bool)\n",
    "prev_df['Notes'] = prev_df['Notes'].astype(str)\n",
    "prev_df['Notes'] = prev_df['Notes'].str.replace('nan', '')\n",
    "prev_df.loc[prev_df['Status'] == 'Expires 04/15/2020', 'Status'] = 'Available'\n",
    "prev_df.drop(prev_df[prev_df['ActualPriceUSD'].isna()].index, inplace=True)\n",
    "prev_df"
   ]
  },
  {
   "cell_type": "markdown",
   "metadata": {},
   "source": [
    "## Check Departure/Status Count"
   ]
  },
  {
   "cell_type": "code",
   "execution_count": null,
   "metadata": {},
   "outputs": [],
   "source": [
    "curr_plot_df = curr_df['DepartureID'].groupby([curr_df['DepartureDate'].dt.month, curr_df['Status']]).count()\n",
    "prev_plot_df = prev_df['DepartureID'].groupby([prev_df['DepartureDate'].dt.month, prev_df['Status']]).count()\n",
    "plot_df = pd.concat([prev_plot_df, curr_plot_df], axis=1)\n",
    "plot_df.columns = ['Previous', 'Current']\n",
    "plot_df = plot_df.unstack(level=-1, fill_value=0)\n",
    "\n",
    "months = plot_df.index\n",
    "month_labels = ['Jan', 'Feb', 'Mar', 'Apr', 'May', 'Jun', 'Jul', 'Aug', 'Sep', 'Oct', 'Nov', 'Dec']\n",
    "\n",
    "previous_available_counts = plot_df['Previous']['Available']\n",
    "previous_available_counts.loc[previous_available_counts.isna()] = 0\n",
    "previous_limited_counts = plot_df['Previous']['Limited']\n",
    "previous_limited_counts.loc[previous_limited_counts.isna()] = 0\n",
    "previous_soldout_counts = plot_df['Previous']['Sold Out']\n",
    "previous_soldout_counts.loc[previous_soldout_counts.isna()] = 0\n",
    "previous_soldout_counts\n",
    "previous_cancelled_counts = plot_df['Previous']['Cancelled']\n",
    "previous_cancelled_counts.loc[previous_cancelled_counts.isna()] = 0\n",
    "previous_removed_counts = plot_df['Previous']['Cancelled / Sold Out']\n",
    "previous_removed_counts.loc[previous_removed_counts.isna()] = 0\n",
    "\n",
    "current_available_counts = plot_df['Current']['Available']\n",
    "current_available_counts.loc[current_available_counts.isna()] = 0\n",
    "current_limited_counts = plot_df['Current']['Limited']\n",
    "current_limited_counts.loc[current_limited_counts.isna()] = 0\n",
    "current_soldout_counts = plot_df['Current']['Sold Out']\n",
    "current_soldout_counts.loc[current_soldout_counts.isna()] = 0\n",
    "current_cancelled_counts = plot_df['Current']['Cancelled']\n",
    "current_cancelled_counts.loc[current_cancelled_counts.isna()] = 0\n",
    "current_removed_counts = plot_df['Current']['Cancelled / Sold Out']\n",
    "current_removed_counts.loc[current_cancelled_counts.isna()] = 0\n",
    "\n",
    "plt.style.use('fivethirtyeight')\n",
    "width = 0.35\n",
    "fig, ax = plt.subplots()\n",
    "\n",
    "ax.bar(months - width/2, previous_available_counts, width=width, color='#1666BE', label='Available')\n",
    "ax.bar(months - width/2, previous_limited_counts, width=width, color='#418C5C', bottom=previous_available_counts, label='Limited')\n",
    "ax.bar(months - width/2, previous_soldout_counts, width=width, color='#CE8D48', bottom=previous_available_counts + previous_limited_counts, label='Sold Out')\n",
    "ax.bar(months - width/2, previous_cancelled_counts, width=width, color='#A4A49C', bottom=previous_available_counts + previous_limited_counts + previous_soldout_counts, label='Cancelled')\n",
    "ax.bar(months - width/2, previous_removed_counts, width=width, color='#AD1E45', bottom=previous_available_counts + previous_limited_counts + previous_soldout_counts + previous_cancelled_counts, label='Removed from Website')\n",
    "\n",
    "ax.bar(months + width/2, current_available_counts, width=width, color='#1666BE')\n",
    "ax.bar(months + width/2, current_limited_counts, width=width, color='#418C5C', bottom=current_available_counts)\n",
    "ax.bar(months + width/2, current_soldout_counts, width=width, color='#CE8D48', bottom=current_available_counts + current_limited_counts)\n",
    "ax.bar(months + width/2, current_cancelled_counts, width=width, color='#A4A49C', bottom=current_available_counts + current_limited_counts + current_soldout_counts)\n",
    "\n",
    "plt.xticks(ticks=months, labels=month_labels)\n",
    "plt.legend()\n",
    "plt.show()"
   ]
  },
  {
   "cell_type": "markdown",
   "metadata": {},
   "source": [
    "## Check Departure/Status Changes"
   ]
  },
  {
   "cell_type": "code",
   "execution_count": null,
   "metadata": {},
   "outputs": [],
   "source": [
    "curr_status_df = curr_df[['DepartureID', 'DepartureDate', 'Status']].set_index(['DepartureID', 'DepartureDate'])\n",
    "prev_status_df = prev_df[['DepartureID', 'DepartureDate', 'Status']].set_index(['DepartureID', 'DepartureDate'])\n",
    "status_df = pd.concat([prev_status_df, curr_status_df], axis=1).reset_index('DepartureDate').sort_values(by='DepartureDate')\n",
    "status_df.columns = ['DepartureDate', 'Previous', 'Current']"
   ]
  },
  {
   "cell_type": "markdown",
   "metadata": {},
   "source": [
    "### New Departures"
   ]
  },
  {
   "cell_type": "code",
   "execution_count": null,
   "metadata": {},
   "outputs": [],
   "source": [
    "new_departures = status_df.loc[status_df['Previous'].isna()]\n",
    "new_departures"
   ]
  },
  {
   "cell_type": "markdown",
   "metadata": {},
   "source": [
    "### Removed Departures"
   ]
  },
  {
   "cell_type": "code",
   "execution_count": null,
   "metadata": {},
   "outputs": [],
   "source": [
    "removed_departures = status_df.loc[(status_df['Current'].isna()) & (status_df['DepartureDate'] > today)]\n",
    "removed_departures"
   ]
  },
  {
   "cell_type": "markdown",
   "metadata": {},
   "source": [
    "### Status Changes"
   ]
  },
  {
   "cell_type": "code",
   "execution_count": null,
   "metadata": {},
   "outputs": [],
   "source": [
    "changed_departures = status_df.loc[(status_df['Previous'] != status_df['Current']) & (status_df['Current'].notna())]\n",
    "changed_departures"
   ]
  },
  {
   "cell_type": "markdown",
   "metadata": {},
   "source": [
    "## Filter Previous-Past Departures\n",
    "\n",
    "### Departure date < Today"
   ]
  },
  {
   "cell_type": "code",
   "execution_count": null,
   "metadata": {},
   "outputs": [],
   "source": [
    "prev_past_df = prev_df[prev_df['DepartureDate'] <= today].sort_values(by=['DepartureDate'], ascending=True)\n",
    "prev_past_df"
   ]
  },
  {
   "cell_type": "markdown",
   "metadata": {},
   "source": [
    "## Filter Previous-Future Departures\n",
    "\n",
    "### Departure date > Today\n",
    "#### If previously 'Available' --> Status = 'Cancelled / Sold Out'"
   ]
  },
  {
   "cell_type": "code",
   "execution_count": null,
   "metadata": {},
   "outputs": [],
   "source": [
    "prev_future_df = prev_df.loc[prev_df['DepartureDate'] > today].sort_values(by=['DepartureDate'], ascending=True)\n",
    "filt = (prev_future_df['Available'] == True)\n",
    "prev_future_df.loc[filt, ['Available', 'Status', 'Notes']] = [False, 'Cancelled / Sold Out', 'Removed from website']\n",
    "prev_future_df"
   ]
  },
  {
   "cell_type": "markdown",
   "metadata": {},
   "source": [
    "## Combine Current and Previous-Past Data"
   ]
  },
  {
   "cell_type": "code",
   "execution_count": null,
   "metadata": {},
   "outputs": [],
   "source": [
    "new_df = pd.concat([curr_df, prev_past_df]).sort_values(by=['DepartureDate'], ascending=True)\n",
    "new_df"
   ]
  },
  {
   "cell_type": "markdown",
   "metadata": {},
   "source": [
    "## Combine Current and Previous-Future Data"
   ]
  },
  {
   "cell_type": "code",
   "execution_count": null,
   "metadata": {},
   "outputs": [],
   "source": [
    "new_df = pd.concat([new_df, prev_future_df]).sort_values(by=['ReportID', 'DepartureID'], ascending=True).drop_duplicates(subset='DepartureID', keep='last').sort_values(by='DepartureDate', ascending=True)\n",
    "new_df"
   ]
  },
  {
   "cell_type": "markdown",
   "metadata": {},
   "source": [
    "## Check Mixed Data"
   ]
  },
  {
   "cell_type": "code",
   "execution_count": null,
   "metadata": {},
   "outputs": [],
   "source": [
    "# prof = pandas_profiling.ProfileReport(new_df)\n",
    "# prof.to_file(output_file='gate1_report.html')"
   ]
  },
  {
   "cell_type": "markdown",
   "metadata": {},
   "source": [
    "## Export CSV"
   ]
  },
  {
   "cell_type": "code",
   "execution_count": null,
   "metadata": {},
   "outputs": [],
   "source": [
    "new_df.drop(columns='DepartureDate', inplace=True)\n",
    "new_df['ReportID'] = report_ID\n",
    "new_df.set_index(['ReportID', 'DepartureID'], verify_integrity=True, inplace=True)\n",
    "new_df.to_csv(new_report_file)"
   ]
  }
 ],
 "metadata": {
  "language_info": {
   "name": "python",
   "codemirror_mode": {
    "name": "ipython",
    "version": 3
   },
   "version": "3.7.4-final"
  },
  "orig_nbformat": 2,
  "file_extension": ".py",
  "mimetype": "text/x-python",
  "name": "python",
  "npconvert_exporter": "python",
  "pygments_lexer": "ipython3",
  "version": 3,
  "kernelspec": {
   "name": "python37464bitvenvvenv0c595150e4404137ab8afb1a03cf4303",
   "display_name": "Python 3.7.4 64-bit ('.venv': venv)"
  }
 },
 "nbformat": 4,
 "nbformat_minor": 2
}