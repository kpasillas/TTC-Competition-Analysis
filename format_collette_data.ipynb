{
 "cells": [
  {
   "cell_type": "markdown",
   "metadata": {},
   "source": [
    "# Collette Report (2021 & 2022)"
   ]
  },
  {
   "cell_type": "code",
   "execution_count": null,
   "metadata": {},
   "outputs": [],
   "source": [
    "import numpy as np\n",
    "import pandas as pd \n",
    "import pandas_profiling\n",
    "from datetime import datetime\n",
    "from matplotlib import pyplot as plt"
   ]
  },
  {
   "cell_type": "markdown",
   "metadata": {},
   "source": [
    "## Set Variables"
   ]
  },
  {
   "cell_type": "code",
   "execution_count": null,
   "metadata": {},
   "outputs": [],
   "source": [
    "report_ID_2021 = 2021061\n",
    "report_ID_2022 = 2022009\n",
    "today = datetime(year=2021, month=2, day=26)\n",
    "current_raw_file = 'Reports/collette_raw_data_02-26-21.csv'\n",
    "previous_report_file = 'Reports/collette_data_02-19-21.csv'\n",
    "new_report_file = 'Reports/collette_data_02-26-21.csv'"
   ]
  },
  {
   "cell_type": "markdown",
   "metadata": {},
   "source": [
    "## OpCode Dictionary"
   ]
  },
  {
   "cell_type": "code",
   "execution_count": null,
   "metadata": {
    "tags": []
   },
   "outputs": [],
   "source": [
    "collette_trips = {\n",
    "    \"Alaska and The Yukon featuring the Yukon, Fairbanks and Denali\" : \"ColletteAY\",\n",
    "    \"Alaska Discovery Land & Cruise featuring a 7-night Princess Cruise\" : \"ColletteADLC\",\n",
    "    \"Alaska: America's Last Frontier\" : \"ColletteAALF\",\n",
    "    \"Alaska's Northern Lights\" : \"ColletteANL\",\n",
    "    \"Alaska's Northern Lights featuring the Iditarod Race\" : \"ColletteANLI\",\n",
    "    \"Albuquerque Balloon Fiesta\" : \"ColletteABF\",\n",
    "    \"America's Cowboy Country\" : \"ColletteACC\",\n",
    "    \"America's Music Cities featuring New Orleans Jazz Fest, Memphis & Nashville\" : \"ColletteAMCJF\",\n",
    "    \"America's Music Cities featuring Nashville, Memphis & New Orleans Jazz Fest\" : \"ColletteAMCJF\",\n",
    "    \"America's Music Cities featuring Nashville, Memphis & New Orleans\" : \"ColletteAMC\",\n",
    "    \"America's Music Cities featuring New Orleans, Memphis & Nashville\" : \"ColletteAMC\",\n",
    "    \"America's Music Cities Holiday featuring New Orleans, Memphis & Nashville\" : \"ColletteAMCH\",\n",
    "    \"America's National Parks & Denver\" : \"ColletteANPD\",\n",
    "    \"Autumn in Vermont featuring Lake Champlain and the Adirondacks\" : \"ColletteAV\",\n",
    "    \"Bluegrass Country & the Smoky Mountains featuring Louisville, Gatlinburg & Asheville\" : \"ColletteBCSM\",\n",
    "    \"California Dreamin': Monterey, Yosemite & Napa\" : \"ColletteCD\",\n",
    "    \"Canadian Rockies & Glacier National Park\" : \"ColletteCRGNP\",\n",
    "    \"Canadian Rockies & Glacier National Park featuring the Calgary Stampede\" : \"ColletteCRGNPCS\",\n",
    "    \"Canadian Rockies by Train\" : \"ColletteCRT\",\n",
    "    \"Canadian Rockies by Train featuring the Calgary Stampede\" : \"ColletteCRTCS\",\n",
    "    \"Canadian Rockies featuring Rocky Mountaineer\" : \"ColletteCRRM\",\n",
    "    \"Canadian Rockies featuring Rocky Mountaineer and Calgary Stampede\" : \"ColletteCRRMCS\",\n",
    "    \"Canyon Country featuring Arizona & Utah\" : \"ColletteCC\",\n",
    "    \"Charming French Canada featuring Montreal, Quebec City, Charlevoix and Montebello\" : \"ColletteCFC\",\n",
    "    \"Colors of New England featuring Coastal Maine\" : \"ColletteCNE\",\n",
    "    \"Colours of New England featuring Coastal Maine\" : \"ColletteCNE\",\n",
    "    \"Colors of New England featuring Portland, Maine\" : \"ColletteCNEP\",\n",
    "    \"Costa Rica: A World of Nature featuring Tortuguero National Park, Arenal Volcano & Manuel Antonio National Park\" : \"ColletteCR\",\n",
    "    \"Discover Panama: The Land Between the Seas\" : \"ColletteDP\",\n",
    "    \"Experience Colombia\" : \"ColletteEC\",\n",
    "    \"Grand Hawaiian Adventure Four Islands featuring Oahu, Big Island, Maui and Kauai\" : \"ColletteGHA\",\n",
    "    \"Hawaiian Adventure  Three Islands featuring Oahu, Kauai and Maui\" : \"ColletteHA\",\n",
    "    \"Heritage of America\" : \"ColletteHOA\",\n",
    "    \"Heritage of America featuring the Virginia International Tattoo\" : \"ColletteHOAVT\",\n",
    "    \"Highlights of South America featuring Buenos Aires, Iguazu Falls & Rio de Janeiro\" : \"ColletteHSA\",\n",
    "    \"Highlights of South America featuring the Andean Lakes Crossing, Buenos Aires & Rio de Janeiro\" : \"ColletteHSAAL\",\n",
    "    \"Islands of New England\" : \"ColletteINE\",\n",
    "    \"Journey Through South America featuring Santiago, Andean Lakes Crossing & Rio de Janeiro\" : \"ColletteJTSA\",\n",
    "    \"Journey Through South America with Peru featuring Machu Picchu, Andean Lakes Crossing & Rio de Janeiro\" : \"ColletteJTSAP\",\n",
    "    \"Machu Picchu & Galapagos Wonders featuring a 4-Night Cruise\" : \"ColletteMPGW\",\n",
    "    \"Machu Picchu & the Galapagos Islands\" : \"ColletteMPGI\",\n",
    "    \"Machu Picchu & the Galapagos Islands featuring a 3-Night Cruise & 1-Night Island Stay\" : \"ColletteMPGICI\",\n",
    "    \"Mackinac Island\" : \"ColletteMI\",\n",
    "    \"Mackinac Island featuring the Grand Hotel & Chicago\" : \"ColletteMI\",\n",
    "    \"Mackinac Island featuring the Grand Hotel and the Tulip Time Festival\" : \"ColletteMITF\",\n",
    "    \"Maritimes Coastal Wonders featuring the Cabot Trail\" : \"ColletteMCW\",\n",
    "    \"Maritimes Coastal Wonders  featuring the Royal Nova Scotia International Tattoo\" : \"ColletteMCWT\",\n",
    "    \"Nashville & the Smoky Mountains Holiday featuring Gatlinburg & Asheville\" : \"ColletteNSMH\",\n",
    "    \"National Parks of America\" : \"ColletteNPA\",\n",
    "    \"Pacific Northwest & California featuring Washington, Oregon and California\" : \"CollettePNWC\",\n",
    "    \"Painted Canyons of the West featuring Utah’s Five National Parks\" : \"CollettePCW\",\n",
    "    \"Patagonia: Edge of the World featuring Argentina, Chile, and a 4-Night Patagonia Cruise\" : \"CollettePEW\",\n",
    "    \"Peru: Ancient Land of Mysteries featuring Puno\" : \"CollettePALM\",\n",
    "    \"Peru: From Lima to Lake Titicaca\" : \"CollettePLLT\",\n",
    "    \"Peru: From Lima to the Sacred Valley\" : \"CollettePLSV\",\n",
    "    \"Roaming Coastal Maine featuring Portland, Acadia & Penobscot Bay\" : \"ColletteRCM\",\n",
    "    \"Southern Charm featuring Charleston, Savannah & Jekyll Island\" : \"ColletteSC\",\n",
    "    \"Southern Charm featuring Charleston, Jekyll Island & Savannah\" : \"ColletteSC\",\n",
    "    \"Southern Charm featuring Jekyll Island, Savannah & Charleston\" : \"ColletteSC\",\n",
    "    \"Southern Charm Holiday\" : \"ColletteSCH\",\n",
    "    \"Spotlight on Montreal\" : \"ColletteSM\",\n",
    "    \"Spotlight on Nashville\" : \"ColletteSN\",\n",
    "    \"Spotlight on New Orleans\" : \"ColletteSNO\",\n",
    "    \"Spotlight on New Orleans featuring Carnival\" : \"ColletteNOC\",\n",
    "    \"Spotlight on New Orleans featuring Jazz Fest\" : \"ColletteSNOJF\",\n",
    "    \"Spotlight on New Orleans Holiday\" : \"ColletteSNOH\",\n",
    "    \"Spotlight on New York City\" : \"ColletteSNYC\",\n",
    "    \"Spotlight on New York City Holiday\" : \"ColletteSNYCH\",\n",
    "    \"Spotlight on San Antonio\" : \"ColletteSSA\",\n",
    "    \"Spotlight on San Antonio featuring the San Antonio Stock Show & Rodeo\" : \"ColletteSSASSR\",\n",
    "    \"Spotlight on San Antonio Holiday\" : \"ColletteSSAH\",\n",
    "    \"Spotlight on Santa Fe\" : \"ColletteSSF\",\n",
    "    \"Spotlight on Santa Fe Holiday\" : \"ColletteSSFH\",\n",
    "    \"Spotlight on South Dakota featuring Mount Rushmore & The Badlands\" : \"ColletteSSD\",\n",
    "    \"Spotlight on Washington, D.C. Exploring America's Capital\" : \"ColletteSWDC\",\n",
    "    \"The Best of Eastern Canada featuring Montreal, Quebec City, Ottawa, Niagara Falls & Toronto\" : \"ColletteBEC\",\n",
    "    \"The Best of Eastern Canada featuring Niagara Falls, Ottawa, Quebec City & Montreal\" : \"ColletteBEC\",\n",
    "    \"The Colorado Rockies featuring National Parks and Historic Trains\" : \"ColletteCRNP\",\n",
    "    \"The Complete South America featuring Peru & Machu Picchu\" : \"ColletteCSA\",\n",
    "    \"Tropical Costa Rica\" : \"ColletteTCR\",\n",
    "    \"Washington, D.C., Niagara Falls & New York City\" : \"ColletteWDCNFNYC\",\n",
    "    \"Western Canada’s Rockies, Lakes & Wine Country\" : \"ColletteWCR\",\n",
    "    \"Winter in Yellowstone\" : \"ColletteWY\",\n",
    "    \"Wonders of Newfoundland featuring Lighthouses, Iceburg Alley, & Gros Morne\" : \"ColletteWNF\"\n",
    "}"
   ]
  },
  {
   "source": [
    "## Look up OpCode"
   ],
   "cell_type": "markdown",
   "metadata": {}
  },
  {
   "cell_type": "code",
   "execution_count": null,
   "metadata": {},
   "outputs": [],
   "source": [
    "orig_df = pd.read_csv(current_raw_file)\n",
    "OpCode = orig_df['Trip Name'].apply(lambda x : collette_trips[x]) + orig_df['DepartureID'].str[-3:-1]\n",
    "orig_df['DepartureID'] = OpCode + \"-\" + orig_df['DepartureID']\n",
    "\n",
    "orig_df"
   ]
  },
  {
   "cell_type": "markdown",
   "metadata": {},
   "source": [
    "## Build Current Data"
   ]
  },
  {
   "cell_type": "code",
   "execution_count": null,
   "metadata": {},
   "outputs": [],
   "source": [
    "curr_df = orig_df.drop_duplicates(subset=['DepartureID', 'field']).pivot(index='DepartureID', columns='field', values='value').reset_index()\n",
    "curr_df = curr_df[['DepartureID', 'DepartureDate', 'ActualPriceUSD', 'OriginalPriceUSD', 'ActualPriceAUD', 'OriginalPriceAUD', 'Available', 'Status', 'Notes']]\n",
    "\n",
    "curr_df['DepartureDate'] = pd.to_datetime(curr_df['DepartureDate'], format='%d-%b-%Y')\n",
    "curr_df.sort_values(by=['DepartureDate'], ascending=True, inplace=True)\n",
    "curr_df = curr_df.loc[curr_df['DepartureDate'] < datetime(year=2023, month=1, day=1, hour=0, minute=0)]\n",
    "\n",
    "report_ID = curr_df['DepartureDate'].apply(lambda x : report_ID_2021 if x < datetime(year=2022, month=1, day=1, hour=0, minute=0) else report_ID_2022)\n",
    "\n",
    "curr_df.insert(0, 'ReportID', report_ID)\n",
    "# curr_df.insert(0, 'ReportID', report_ID_2021)\n",
    "curr_df.insert(8, 'Type', '')\n",
    "curr_df.insert(10, 'Pax', np.NaN)\n",
    "\n",
    "curr_df.loc[curr_df['ActualPriceUSD'] == 'Call For Air', 'ActualPriceUSD'] = np.NaN\n",
    "curr_df['ActualPriceUSD'] = curr_df['ActualPriceUSD'].str.replace('$', '').astype(float)\n",
    "curr_df.loc[curr_df['OriginalPriceUSD'] == 'Call For Air', 'OriginalPriceUSD'] = np.NaN\n",
    "curr_df['OriginalPriceUSD'] = curr_df['OriginalPriceUSD'].str.replace('$', '').astype(float)\n",
    "curr_df['ActualPriceAUD'] = curr_df['ActualPriceAUD'].str.replace('$', '').astype(float)\n",
    "curr_df['OriginalPriceAUD'] = curr_df['OriginalPriceAUD'].str.replace('$', '').astype(float)\n",
    "\n",
    "booleanDictionary = {'True': True, 'False': False}\n",
    "curr_df['Available'] = curr_df['Available'].replace(booleanDictionary)\n",
    "\n",
    "curr_df"
   ]
  },
  {
   "cell_type": "markdown",
   "metadata": {},
   "source": [
    "## Build Previous Data"
   ]
  },
  {
   "cell_type": "code",
   "execution_count": null,
   "metadata": {},
   "outputs": [],
   "source": [
    "prev_df = pd.read_csv(previous_report_file)\n",
    "\n",
    "prev_df['ReportID'] = prev_df['ReportID'].astype(int)\n",
    "\n",
    "departure_code = prev_df['DepartureID'].str.split(pat='-', expand=True)[1]\n",
    "day_numbers = departure_code.str[0:2]\n",
    "get_char = lambda x : str(ord(x[2]) - 64)\n",
    "month_numbers = departure_code.apply(get_char)\n",
    "year_numbers = departure_code.str[3:5]\n",
    "departure_date = pd.to_datetime(day_numbers + '-' + month_numbers + '-' + year_numbers, format='%d-%m-%y')\n",
    "\n",
    "prev_df.insert(2, 'DepartureDate', departure_date)\n",
    "\n",
    "prev_df = prev_df.loc[prev_df['DepartureDate'] >= datetime(year=2021, month=1, day=1, hour=0, minute=0)]\n",
    "\n",
    "prev_df.sort_values(by=['DepartureDate'], ascending=True, inplace=True)\n",
    "\n",
    "prev_df['Available'] = prev_df['Available'].astype(bool)\n",
    "prev_df['Notes'] = prev_df['Notes'].astype(str)\n",
    "prev_df['Notes'] = prev_df['Notes'].str.replace('nan', '')\n",
    "\n",
    "prev_df"
   ]
  },
  {
   "source": [
    "## Check Departure/Status Count (2021)"
   ],
   "cell_type": "markdown",
   "metadata": {}
  },
  {
   "cell_type": "code",
   "execution_count": null,
   "metadata": {},
   "outputs": [],
   "source": [
    "curr_plot_df = curr_df['DepartureID'].loc[curr_df['DepartureDate'].dt.year == 2021].groupby([curr_df['DepartureDate'].dt.month, curr_df['Status']]).count()\n",
    "prev_plot_df = prev_df['DepartureID'].loc[prev_df['DepartureDate'].dt.year == 2021].groupby([prev_df['DepartureDate'].dt.month, prev_df['Status']]).count()\n",
    "plot_df = pd.concat([prev_plot_df, curr_plot_df], axis=1)\n",
    "plot_df.columns = ['Previous', 'Current']\n",
    "plot_df = plot_df.unstack(level=-1, fill_value=0)\n",
    "\n",
    "months = plot_df.index\n",
    "month_labels = ['Jan', 'Feb', 'Mar', 'Apr', 'May', 'Jun', 'Jul', 'Aug', 'Sep', 'Oct', 'Nov', 'Dec']\n",
    "\n",
    "\n",
    "if 'Available' in plot_df['Previous'].columns:\n",
    "    previous_available_counts = plot_df['Previous']['Available']\n",
    "    previous_available_counts.loc[previous_available_counts.isna()] = 0\n",
    "else:\n",
    "    previous_available_counts = 0\n",
    "\n",
    "if 'Limited' in plot_df['Previous'].columns:\n",
    "    previous_limited_counts = plot_df['Previous']['Limited']\n",
    "    previous_limited_counts.loc[previous_limited_counts.isna()] = 0\n",
    "else:\n",
    "    previous_limited_counts = 0\n",
    "\n",
    "if 'Sold Out' in plot_df['Previous'].columns:\n",
    "    previous_soldout_counts = plot_df['Previous']['Sold Out']\n",
    "    previous_soldout_counts.loc[previous_soldout_counts.isna()] = 0\n",
    "else:\n",
    "    previous_soldout_counts = 0\n",
    "\n",
    "if 'Cancelled' in plot_df['Previous'].columns:\n",
    "    previous_cancelled_counts = plot_df['Previous']['Cancelled']\n",
    "    previous_cancelled_counts.loc[previous_cancelled_counts.isna()] = 0\n",
    "else:\n",
    "    previous_cancelled_counts = 0\n",
    "\n",
    "if 'Cancelled / Sold Out' in plot_df['Previous'].columns:\n",
    "    previous_removed_counts = plot_df['Previous']['Cancelled / Sold Out']\n",
    "    previous_removed_counts.loc[previous_removed_counts.isna()] = 0\n",
    "else:\n",
    "    previous_removed_counts = 0\n",
    "\n",
    "\n",
    "if 'Available' in plot_df['Current'].columns:\n",
    "    current_available_counts = plot_df['Current']['Available']\n",
    "    current_available_counts.loc[current_available_counts.isna()] = 0\n",
    "else:\n",
    "    current_available_counts = 0\n",
    "\n",
    "if 'Limited' in plot_df['Current'].columns:\n",
    "    current_limited_counts = plot_df['Current']['Limited']\n",
    "    current_limited_counts.loc[current_limited_counts.isna()] = 0\n",
    "else:\n",
    "    current_limited_counts = 0\n",
    "\n",
    "if 'Sold Out' in plot_df['Current'].columns:\n",
    "    current_soldout_counts = plot_df['Current']['Sold Out']\n",
    "    current_soldout_counts.loc[current_soldout_counts.isna()] = 0\n",
    "else:\n",
    "    current_soldout_counts = 0\n",
    "\n",
    "if 'Cancelled' in plot_df['Current'].columns:\n",
    "    current_cancelled_counts = plot_df['Current']['Cancelled']\n",
    "    current_cancelled_counts.loc[current_cancelled_counts.isna()] = 0\n",
    "else:\n",
    "    current_cancelled_counts = 0\n",
    "\n",
    "if 'Cancelled / Sold Out' in plot_df['Current'].columns:\n",
    "    current_removed_counts = plot_df['Current']['Cancelled / Sold Out']\n",
    "    current_removed_counts.loc[current_cancelled_counts.isna()] = 0\n",
    "else:\n",
    "    current_removed_counts = 0\n",
    "\n",
    "\n",
    "plt.style.use('fivethirtyeight')\n",
    "width = 0.35\n",
    "fig, ax = plt.subplots()\n",
    "\n",
    "ax.bar(months - width/2, previous_available_counts, width=width, color='#1666BE', label='Available')\n",
    "ax.bar(months - width/2, previous_limited_counts, width=width, color='#418C5C', bottom=previous_available_counts, label='Limited')\n",
    "ax.bar(months - width/2, previous_soldout_counts, width=width, color='#CE8D48', bottom=previous_available_counts + previous_limited_counts, label='Sold Out')\n",
    "ax.bar(months - width/2, previous_cancelled_counts, width=width, color='#A4A49C', bottom=previous_available_counts + previous_limited_counts + previous_soldout_counts, label='Cancelled')\n",
    "ax.bar(months - width/2, previous_removed_counts, width=width, color='#AD1E45', bottom=previous_available_counts + previous_limited_counts + previous_soldout_counts + previous_cancelled_counts, label='Removed from Website')\n",
    "\n",
    "ax.bar(months + width/2, current_available_counts, width=width, color='#1666BE')\n",
    "ax.bar(months + width/2, current_limited_counts, width=width, color='#418C5C', bottom=current_available_counts)\n",
    "ax.bar(months + width/2, current_soldout_counts, width=width, color='#CE8D48', bottom=current_available_counts + current_limited_counts)\n",
    "ax.bar(months + width/2, current_cancelled_counts, width=width, color='#A4A49C', bottom=current_available_counts + current_limited_counts + current_soldout_counts)\n",
    "\n",
    "plt.xticks(ticks=months, labels=month_labels)\n",
    "plt.legend()\n",
    "plt.show()"
   ]
  },
  {
   "source": [
    "## Check Departure/Status Count (2022)"
   ],
   "cell_type": "markdown",
   "metadata": {}
  },
  {
   "cell_type": "code",
   "execution_count": null,
   "metadata": {},
   "outputs": [],
   "source": [
    "curr_plot_df = curr_df['DepartureID'].loc[curr_df['DepartureDate'].dt.year == 2022].groupby([curr_df['DepartureDate'].dt.month, curr_df['Status']]).count()\n",
    "prev_plot_df = prev_df['DepartureID'].loc[prev_df['DepartureDate'].dt.year == 2022].groupby([prev_df['DepartureDate'].dt.month, prev_df['Status']]).count()\n",
    "plot_df = pd.concat([prev_plot_df, curr_plot_df], axis=1)\n",
    "plot_df.columns = ['Previous', 'Current']\n",
    "plot_df = plot_df.unstack(level=-1, fill_value=0)\n",
    "\n",
    "months = plot_df.index\n",
    "month_labels = ['Jan', 'Feb', 'Mar', 'Apr', 'May', 'Jun', 'Jul', 'Aug', 'Sep', 'Oct', 'Nov', 'Dec']\n",
    "\n",
    "\n",
    "if 'Available' in plot_df['Previous'].columns:\n",
    "    previous_available_counts = plot_df['Previous']['Available']\n",
    "    previous_available_counts.loc[previous_available_counts.isna()] = 0\n",
    "else:\n",
    "    previous_available_counts = 0\n",
    "\n",
    "if 'Limited' in plot_df['Previous'].columns:\n",
    "    previous_limited_counts = plot_df['Previous']['Limited']\n",
    "    previous_limited_counts.loc[previous_limited_counts.isna()] = 0\n",
    "else:\n",
    "    previous_limited_counts = 0\n",
    "\n",
    "if 'Sold Out' in plot_df['Previous'].columns:\n",
    "    previous_soldout_counts = plot_df['Previous']['Sold Out']\n",
    "    previous_soldout_counts.loc[previous_soldout_counts.isna()] = 0\n",
    "else:\n",
    "    previous_soldout_counts = 0\n",
    "\n",
    "if 'Cancelled' in plot_df['Previous'].columns:\n",
    "    previous_cancelled_counts = plot_df['Previous']['Cancelled']\n",
    "    previous_cancelled_counts.loc[previous_cancelled_counts.isna()] = 0\n",
    "else:\n",
    "    previous_cancelled_counts = 0\n",
    "\n",
    "if 'Cancelled / Sold Out' in plot_df['Previous'].columns:\n",
    "    previous_removed_counts = plot_df['Previous']['Cancelled / Sold Out']\n",
    "    previous_removed_counts.loc[previous_removed_counts.isna()] = 0\n",
    "else:\n",
    "    previous_removed_counts = 0\n",
    "\n",
    "\n",
    "if 'Available' in plot_df['Current'].columns:\n",
    "    current_available_counts = plot_df['Current']['Available']\n",
    "    current_available_counts.loc[current_available_counts.isna()] = 0\n",
    "else:\n",
    "    current_available_counts = 0\n",
    "\n",
    "if 'Limited' in plot_df['Current'].columns:\n",
    "    current_limited_counts = plot_df['Current']['Limited']\n",
    "    current_limited_counts.loc[current_limited_counts.isna()] = 0\n",
    "else:\n",
    "    current_limited_counts = 0\n",
    "\n",
    "if 'Sold Out' in plot_df['Current'].columns:\n",
    "    current_soldout_counts = plot_df['Current']['Sold Out']\n",
    "    current_soldout_counts.loc[current_soldout_counts.isna()] = 0\n",
    "else:\n",
    "    current_soldout_counts = 0\n",
    "\n",
    "if 'Cancelled' in plot_df['Current'].columns:\n",
    "    current_cancelled_counts = plot_df['Current']['Cancelled']\n",
    "    current_cancelled_counts.loc[current_cancelled_counts.isna()] = 0\n",
    "else:\n",
    "    current_cancelled_counts = 0\n",
    "\n",
    "if 'Cancelled / Sold Out' in plot_df['Current'].columns:\n",
    "    current_removed_counts = plot_df['Current']['Cancelled / Sold Out']\n",
    "    current_removed_counts.loc[current_cancelled_counts.isna()] = 0\n",
    "else:\n",
    "    current_removed_counts = 0\n",
    "\n",
    "\n",
    "plt.style.use('fivethirtyeight')\n",
    "width = 0.35\n",
    "fig, ax = plt.subplots()\n",
    "\n",
    "ax.bar(months - width/2, previous_available_counts, width=width, color='#1666BE', label='Available')\n",
    "ax.bar(months - width/2, previous_limited_counts, width=width, color='#418C5C', bottom=previous_available_counts, label='Limited')\n",
    "ax.bar(months - width/2, previous_soldout_counts, width=width, color='#CE8D48', bottom=previous_available_counts + previous_limited_counts, label='Sold Out')\n",
    "ax.bar(months - width/2, previous_cancelled_counts, width=width, color='#A4A49C', bottom=previous_available_counts + previous_limited_counts + previous_soldout_counts, label='Cancelled')\n",
    "ax.bar(months - width/2, previous_removed_counts, width=width, color='#AD1E45', bottom=previous_available_counts + previous_limited_counts + previous_soldout_counts + previous_cancelled_counts, label='Removed from Website')\n",
    "\n",
    "ax.bar(months + width/2, current_available_counts, width=width, color='#1666BE')\n",
    "ax.bar(months + width/2, current_limited_counts, width=width, color='#418C5C', bottom=current_available_counts)\n",
    "ax.bar(months + width/2, current_soldout_counts, width=width, color='#CE8D48', bottom=current_available_counts + current_limited_counts)\n",
    "ax.bar(months + width/2, current_cancelled_counts, width=width, color='#A4A49C', bottom=current_available_counts + current_limited_counts + current_soldout_counts)\n",
    "\n",
    "plt.xticks(ticks=months, labels=month_labels)\n",
    "plt.legend()\n",
    "plt.show()"
   ]
  },
  {
   "cell_type": "markdown",
   "metadata": {},
   "source": [
    "## Check Departure/Status Changes"
   ]
  },
  {
   "cell_type": "code",
   "execution_count": null,
   "metadata": {},
   "outputs": [],
   "source": [
    "curr_status_df = curr_df[['DepartureID', 'DepartureDate', 'Status']].set_index(['DepartureID', 'DepartureDate'])\n",
    "prev_status_df = prev_df[['DepartureID', 'DepartureDate', 'Status']].set_index(['DepartureID', 'DepartureDate'])\n",
    "status_df = pd.concat([prev_status_df, curr_status_df], axis=1).reset_index('DepartureDate').sort_values(by='DepartureDate')\n",
    "status_df.columns = ['DepartureDate', 'Previous', 'Current']"
   ]
  },
  {
   "cell_type": "markdown",
   "metadata": {},
   "source": [
    "### New Departures"
   ]
  },
  {
   "cell_type": "code",
   "execution_count": null,
   "metadata": {
    "tags": []
   },
   "outputs": [],
   "source": [
    "new_departures = status_df.loc[status_df['Previous'].isna()]\n",
    "\n",
    "new_departures"
   ]
  },
  {
   "source": [
    "### Export New Departures"
   ],
   "cell_type": "markdown",
   "metadata": {}
  },
  {
   "cell_type": "code",
   "execution_count": null,
   "metadata": {
    "tags": []
   },
   "outputs": [],
   "source": [
    "if new_departures.empty:\n",
    "    print('No new departures...')\n",
    "\n",
    "else:\n",
    "    export_departures = new_departures['DepartureDate'].reset_index()\n",
    "    split_id = export_departures['DepartureID'].str.split(\"-\", expand=True)\n",
    "    export_departures.insert(1, 'OpCode', split_id[0])\n",
    "    export_departures.insert(2, 'DepartureCode', split_id[1])\n",
    "    export_departures.insert(4, 'Season', export_departures['DepartureDate'].dt.year)\n",
    "    export_departures['DepartureDate'] = export_departures['DepartureDate'].dt.strftime('%d-%b-%Y')\n",
    "    export_departures.set_index('DepartureID', inplace=True)\n",
    "\n",
    "    export_departures.to_csv('Reports/collette_new_departures.csv')"
   ]
  },
  {
   "cell_type": "markdown",
   "metadata": {},
   "source": [
    "### Removed Departures"
   ]
  },
  {
   "cell_type": "code",
   "execution_count": null,
   "metadata": {},
   "outputs": [],
   "source": [
    "removed_departures = status_df.loc[(status_df['Current'].isna()) & (status_df['DepartureDate'] > today)]\n",
    "\n",
    "removed_departures"
   ]
  },
  {
   "cell_type": "markdown",
   "metadata": {},
   "source": [
    "### Status Changes"
   ]
  },
  {
   "cell_type": "code",
   "execution_count": null,
   "metadata": {},
   "outputs": [],
   "source": [
    "changed_departures = status_df.loc[(status_df['Previous'] != status_df['Current']) & (status_df['Current'].notna())]\n",
    "\n",
    "changed_departures"
   ]
  },
  {
   "cell_type": "markdown",
   "metadata": {},
   "source": [
    "## Filter Previous-Past Departures\n",
    "\n",
    "### Departure date < Today"
   ]
  },
  {
   "cell_type": "code",
   "execution_count": null,
   "metadata": {},
   "outputs": [],
   "source": [
    "prev_past_df = prev_df[prev_df['DepartureDate'] <= today].sort_values(by=['DepartureDate'], ascending=True)\n",
    "\n",
    "prev_past_df"
   ]
  },
  {
   "cell_type": "markdown",
   "metadata": {},
   "source": [
    "## Filter Previous-Future Departures\n",
    "\n",
    "### Departure date > Today\n",
    "#### If previously 'Available' --> Status = 'Cancelled / Sold Out'"
   ]
  },
  {
   "cell_type": "code",
   "execution_count": null,
   "metadata": {},
   "outputs": [],
   "source": [
    "prev_future_df = prev_df.loc[prev_df['DepartureDate'] > today].sort_values(by=['DepartureDate'], ascending=True)\n",
    "filt = (prev_future_df['Available'] == True)\n",
    "prev_future_df.loc[filt, ['Available', 'Status', 'Notes']] = [False, 'Cancelled / Sold Out', 'Removed from website']\n",
    "\n",
    "prev_future_df"
   ]
  },
  {
   "cell_type": "markdown",
   "metadata": {},
   "source": [
    "## Combine Current and Previous-Past Data"
   ]
  },
  {
   "cell_type": "code",
   "execution_count": null,
   "metadata": {},
   "outputs": [],
   "source": [
    "new_df = pd.concat([curr_df, prev_past_df]).sort_values(by=['DepartureDate'], ascending=True)\n",
    "\n",
    "new_df"
   ]
  },
  {
   "cell_type": "markdown",
   "metadata": {},
   "source": [
    "## Combine Current and Previous-Future Data"
   ]
  },
  {
   "cell_type": "code",
   "execution_count": null,
   "metadata": {},
   "outputs": [],
   "source": [
    "new_df = pd.concat([new_df, prev_future_df]).sort_values(by=['ReportID', 'DepartureID'], ascending=True).drop_duplicates(subset='DepartureID', keep='last').sort_values(by='DepartureDate', ascending=True)\n",
    "\n",
    "new_df"
   ]
  },
  {
   "cell_type": "markdown",
   "metadata": {},
   "source": [
    "## Check Mixed Data"
   ]
  },
  {
   "cell_type": "code",
   "execution_count": null,
   "metadata": {},
   "outputs": [],
   "source": [
    "# prof = pandas_profiling.ProfileReport(new_df)\n",
    "# prof.to_file(output_file='gate1_report.html')"
   ]
  },
  {
   "cell_type": "markdown",
   "metadata": {},
   "source": [
    "## Export CSV"
   ]
  },
  {
   "cell_type": "code",
   "execution_count": null,
   "metadata": {},
   "outputs": [],
   "source": [
    "new_df.drop(columns='ReportID', inplace=True)\n",
    "\n",
    "report_ID = new_df['DepartureDate'].apply(lambda x : report_ID_2021 if x < datetime(year=2022, month=1, day=1, hour=0, minute=0) else report_ID_2022)\n",
    "new_df.insert(0, 'ReportID', report_ID)\n",
    "# new_df.insert(0, 'ReportID', report_ID_2021)\n",
    "\n",
    "new_df.drop(columns='DepartureDate', inplace=True)\n",
    "new_df.set_index(['ReportID', 'DepartureID'], verify_integrity=True, inplace=True)\n",
    "\n",
    "new_df.to_csv(new_report_file)"
   ]
  },
  {
   "cell_type": "code",
   "execution_count": null,
   "metadata": {},
   "outputs": [],
   "source": []
  }
 ],
 "metadata": {
  "language_info": {
   "name": "python",
   "codemirror_mode": {
    "name": "ipython",
    "version": 3
   },
   "version": "3.7.4-final"
  },
  "orig_nbformat": 2,
  "file_extension": ".py",
  "mimetype": "text/x-python",
  "name": "python",
  "npconvert_exporter": "python",
  "pygments_lexer": "ipython3",
  "version": 3,
  "kernelspec": {
   "name": "python37464bitvenvvenv0c595150e4404137ab8afb1a03cf4303",
   "display_name": "Python 3.7.4 64-bit ('.venv': venv)",
   "language": "python"
  }
 },
 "nbformat": 4,
 "nbformat_minor": 2
}