{
 "cells": [
  {
   "cell_type": "markdown",
   "source": [
    "# Globus Report (2021 & 2022)"
   ],
   "metadata": {}
  },
  {
   "cell_type": "code",
   "execution_count": null,
   "source": [
    "import numpy as np\r\n",
    "import pandas as pd\r\n",
    "import pandas_profiling\r\n",
    "from datetime import datetime\r\n",
    "from matplotlib import pyplot as plt"
   ],
   "outputs": [],
   "metadata": {}
  },
  {
   "cell_type": "markdown",
   "source": [
    "## Set Variables"
   ],
   "metadata": {}
  },
  {
   "cell_type": "code",
   "execution_count": null,
   "source": [
    "report_ID_2022 = 2022054\r\n",
    "today = datetime(year=2022, month=1, day=7)\r\n",
    "current_raw_file = 'Reports/globus_raw_data_01-07-22.csv'\r\n",
    "previous_report_file = 'Reports/globus_data_12-31-21.csv'\r\n",
    "new_report_file = 'Reports/globus_data_01-07-22.csv'"
   ],
   "outputs": [],
   "metadata": {}
  },
  {
   "cell_type": "markdown",
   "source": [
    "## Build Current Data"
   ],
   "metadata": {}
  },
  {
   "cell_type": "code",
   "execution_count": null,
   "source": [
    "curr_df = pd.read_csv(current_raw_file).drop_duplicates(subset=['DepartureID', 'field']).pivot(index='DepartureID', columns='field', values='value').reset_index()\r\n",
    "curr_df = curr_df[['DepartureID', 'DepartureDate', 'ActualPriceUSD', 'OriginalPriceUSD', 'ActualPriceAUD', 'OriginalPriceAUD', 'Available', 'Type', 'Status', 'Notes']]\r\n",
    "\r\n",
    "curr_df['DepartureDate'] = pd.to_datetime(curr_df['DepartureDate'], format='%d-%b-%Y')\r\n",
    "curr_df.sort_values(by=['DepartureDate'], ascending=True, inplace=True)\r\n",
    "curr_df = curr_df.loc[curr_df['DepartureDate'] < datetime(year=2023, month=1, day=1, hour=0, minute=0)]\r\n",
    "\r\n",
    "report_ID = curr_df['DepartureDate'].apply(lambda x : None if x < datetime(year=2022, month=1, day=1, hour=0, minute=0) else report_ID_2022)\r\n",
    "curr_df.insert(0, 'ReportID', report_ID)\r\n",
    "\r\n",
    "curr_df.insert(10, 'Pax', np.NaN)\r\n",
    "\r\n",
    "curr_df['ActualPriceUSD'] = curr_df['ActualPriceUSD'].str.replace('$', '').astype(float)\r\n",
    "curr_df['OriginalPriceUSD'] = curr_df['OriginalPriceUSD'].str.replace('$', '').astype(float)\r\n",
    "curr_df['ActualPriceAUD'] = curr_df['ActualPriceAUD'].str.replace('$', '').astype(float)\r\n",
    "curr_df['OriginalPriceAUD'] = curr_df['OriginalPriceAUD'].str.replace('$', '').astype(float)\r\n",
    "\r\n",
    "booleanDictionary = {'True': True, 'False': False}\r\n",
    "curr_df['Available'] = curr_df['Available'].replace(booleanDictionary)\r\n",
    "\r\n",
    "curr_df"
   ],
   "outputs": [],
   "metadata": {}
  },
  {
   "cell_type": "markdown",
   "source": [
    "## Build Previous Data"
   ],
   "metadata": {}
  },
  {
   "cell_type": "code",
   "execution_count": null,
   "source": [
    "prev_df = pd.read_csv(previous_report_file)\r\n",
    "prev_df['ReportID'] = prev_df['ReportID'].astype(int)\r\n",
    "departure_code = prev_df['DepartureID'].str.split(pat='-', expand=True)[1]\r\n",
    "day_numbers = departure_code.str[0:2]\r\n",
    "get_char = lambda x : str(ord(x[2]) - 64)\r\n",
    "month_numbers = departure_code.apply(get_char)\r\n",
    "year_numbers = departure_code.str[3:5]\r\n",
    "departure_date = pd.to_datetime(day_numbers + '-' + month_numbers + '-' + year_numbers, format='%d-%m-%y')\r\n",
    "\r\n",
    "prev_df.insert(2, 'DepartureDate', departure_date)\r\n",
    "\r\n",
    "prev_df = prev_df.loc[prev_df['DepartureDate'] >= datetime(year=2022, month=1, day=1, hour=0, minute=0)]\r\n",
    "\r\n",
    "prev_df.sort_values(by=['DepartureDate'], ascending=True, inplace=True)\r\n",
    "\r\n",
    "prev_df['Notes'] = prev_df['Notes'].astype(str)\r\n",
    "prev_df['Notes'] = prev_df['Notes'].str.replace('nan', '')\r\n",
    "\r\n",
    "prev_df"
   ],
   "outputs": [],
   "metadata": {}
  },
  {
   "cell_type": "markdown",
   "source": [
    "## Check Departure/Status Count (2022)"
   ],
   "metadata": {}
  },
  {
   "cell_type": "code",
   "execution_count": null,
   "source": [
    "curr_plot_df = curr_df['DepartureID'].loc[curr_df['DepartureDate'].dt.year == 2022].groupby([curr_df['DepartureDate'].dt.month, curr_df['Status']]).count()\r\n",
    "prev_plot_df = prev_df['DepartureID'].loc[prev_df['DepartureDate'].dt.year == 2022].groupby([prev_df['DepartureDate'].dt.month, prev_df['Status']]).count()\r\n",
    "plot_df = pd.concat([prev_plot_df, curr_plot_df], axis=1)\r\n",
    "plot_df.columns = ['Previous', 'Current']\r\n",
    "plot_df = plot_df.unstack(level=-1, fill_value=0)\r\n",
    "\r\n",
    "\r\n",
    "months = plot_df.index\r\n",
    "month_labels = ['Jan', 'Feb', 'Mar', 'Apr', 'May', 'Jun', 'Jul', 'Aug', 'Sep', 'Oct', 'Nov', 'Dec']\r\n",
    "\r\n",
    "\r\n",
    "if 'Available' in plot_df['Previous'].columns:\r\n",
    "    previous_available_counts = plot_df.loc[:, ('Previous', 'Available')]\r\n",
    "    previous_available_counts.loc[previous_available_counts.isna()] = 0\r\n",
    "else:\r\n",
    "    previous_available_counts = 0\r\n",
    "\r\n",
    "if 'Not Available' in plot_df['Previous'].columns:\r\n",
    "    previous_notavail_counts = plot_df.loc[:, ('Previous', 'Not Available')]\r\n",
    "    previous_notavail_counts.loc[previous_notavail_counts.isna()] = 0\r\n",
    "else:\r\n",
    "    previous_notavail_counts = 0\r\n",
    "\r\n",
    "if 'Cancelled / Sold Out' in plot_df['Previous'].columns:\r\n",
    "    previous_removed_counts = plot_df.loc[:, ('Previous', 'Cancelled / Sold Out')]\r\n",
    "    previous_removed_counts.loc[previous_removed_counts.isna()] = 0\r\n",
    "else:\r\n",
    "    previous_removed_counts = 0\r\n",
    "\r\n",
    "\r\n",
    "if 'Available' in plot_df['Current'].columns:\r\n",
    "    current_available_counts = plot_df.loc[:, ('Current', 'Available')]\r\n",
    "    current_available_counts.loc[current_available_counts.isna()] = 0\r\n",
    "else:\r\n",
    "    current_available_counts = 0\r\n",
    "\r\n",
    "if 'Not Available' in plot_df['Current'].columns:\r\n",
    "    current_notavail_counts = plot_df.loc[:, ('Current', 'Not Available')]\r\n",
    "    current_notavail_counts.loc[current_notavail_counts.isna()] = 0\r\n",
    "else:\r\n",
    "    current_notavail_counts = 0\r\n",
    "\r\n",
    "if 'Cancelled / Sold Out' in plot_df['Current'].columns:\r\n",
    "    current_removed_counts = plot_df.loc[:, ('Current', 'Cancelled / Sold Out')]\r\n",
    "    current_removed_counts.loc[current_removed_counts.isna()] = 0\r\n",
    "else:\r\n",
    "    current_removed_counts = 0\r\n",
    "\r\n",
    "\r\n",
    "plt.style.use('fivethirtyeight')\r\n",
    "width = 0.35\r\n",
    "fig, ax = plt.subplots()\r\n",
    "\r\n",
    "ax.bar(months - width/2, previous_available_counts, width=width, color='#1666BE', label='Available')\r\n",
    "ax.bar(months - width/2, previous_notavail_counts, width=width, color='#A4A49C', bottom=previous_available_counts, label='Not Available')\r\n",
    "ax.bar(months - width/2, previous_removed_counts, width=width, color='#AD1E45', bottom=previous_available_counts + previous_notavail_counts, label='Removed from Website')\r\n",
    "\r\n",
    "ax.bar(months + width/2, current_available_counts, width=width, color='#1666BE')\r\n",
    "ax.bar(months + width/2, current_notavail_counts, width=width, color='#A4A49C', bottom=current_available_counts)\r\n",
    "ax.bar(months - width/2, current_removed_counts, width=width, color='#AD1E45', bottom=current_available_counts + current_notavail_counts)\r\n",
    "\r\n",
    "plt.xticks(ticks=months, labels=month_labels)\r\n",
    "plt.legend()\r\n",
    "plt.show()"
   ],
   "outputs": [],
   "metadata": {}
  },
  {
   "cell_type": "markdown",
   "source": [
    "## Check Departure/Status Changes"
   ],
   "metadata": {}
  },
  {
   "cell_type": "code",
   "execution_count": null,
   "source": [
    "curr_status_df = curr_df[['DepartureID', 'DepartureDate', 'Status']].set_index(['DepartureID', 'DepartureDate'])\r\n",
    "prev_status_df = prev_df[['DepartureID', 'DepartureDate', 'Status']].set_index(['DepartureID', 'DepartureDate'])\r\n",
    "status_df = pd.concat([prev_status_df, curr_status_df], axis=1).reset_index('DepartureDate').sort_values(by='DepartureDate')\r\n",
    "status_df.columns = ['DepartureDate', 'Previous', 'Current']"
   ],
   "outputs": [],
   "metadata": {}
  },
  {
   "cell_type": "markdown",
   "source": [
    "### New Departures"
   ],
   "metadata": {}
  },
  {
   "cell_type": "code",
   "execution_count": null,
   "source": [
    "new_departures = status_df.loc[status_df['Previous'].isna()]\r\n",
    "\r\n",
    "new_departures"
   ],
   "outputs": [],
   "metadata": {}
  },
  {
   "cell_type": "markdown",
   "source": [
    "### Export New Departures"
   ],
   "metadata": {}
  },
  {
   "cell_type": "code",
   "execution_count": null,
   "source": [
    "if new_departures.empty:\r\n",
    "    print('No new departures...')\r\n",
    "else:\r\n",
    "    export_departures = new_departures['DepartureDate'].reset_index()\r\n",
    "    split_id = export_departures['DepartureID'].str.split(\"-\", expand=True)\r\n",
    "    export_departures.insert(1, 'OpCode', split_id[0])\r\n",
    "    export_departures.insert(2, 'DepartureCode', split_id[1])\r\n",
    "    export_departures.insert(4, 'Season', export_departures['DepartureDate'].dt.year)\r\n",
    "    export_departures.set_index('DepartureID', inplace=True)\r\n",
    "\r\n",
    "    export_departures.to_csv('Reports/globus_new_departures.csv')"
   ],
   "outputs": [],
   "metadata": {
    "tags": []
   }
  },
  {
   "cell_type": "markdown",
   "source": [
    "### Removed Departures"
   ],
   "metadata": {}
  },
  {
   "cell_type": "code",
   "execution_count": null,
   "source": [
    "removed_departures = status_df.loc[(status_df['Current'].isna()) & (status_df['DepartureDate'] > today)]\r\n",
    "\r\n",
    "removed_departures"
   ],
   "outputs": [],
   "metadata": {}
  },
  {
   "cell_type": "markdown",
   "source": [
    "### Status Changes"
   ],
   "metadata": {}
  },
  {
   "cell_type": "code",
   "execution_count": null,
   "source": [
    "changed_departures = status_df.loc[(status_df['Previous'] != status_df['Current']) & (status_df['Current'].notna())]\r\n",
    "\r\n",
    "changed_departures"
   ],
   "outputs": [],
   "metadata": {}
  },
  {
   "cell_type": "markdown",
   "source": [
    "## Filter Previous-Past Departures\n",
    "\n",
    "### Departure date < Today"
   ],
   "metadata": {}
  },
  {
   "cell_type": "code",
   "execution_count": null,
   "source": [
    "prev_past_df = prev_df[prev_df['DepartureDate'] <= today].sort_values(by=['DepartureDate'], ascending=True)\r\n",
    "\r\n",
    "prev_past_df"
   ],
   "outputs": [],
   "metadata": {}
  },
  {
   "cell_type": "markdown",
   "source": [
    "## Filter Previous-Future Departures\n",
    "\n",
    "### Departure date > Today\n",
    "#### If previously 'Available' --> Status = 'Cancelled / Sold Out'"
   ],
   "metadata": {}
  },
  {
   "cell_type": "code",
   "execution_count": null,
   "source": [
    "prev_future_df = prev_df.loc[prev_df['DepartureDate'] >= today].sort_values(by=['DepartureDate'], ascending=True)\r\n",
    "filt = (prev_future_df['Available'] == True)\r\n",
    "prev_future_df.loc[filt, ['Available', 'Status', 'Notes']] = [False, 'Cancelled / Sold Out', 'Removed from website']\r\n",
    "\r\n",
    "prev_future_df"
   ],
   "outputs": [],
   "metadata": {}
  },
  {
   "cell_type": "markdown",
   "source": [
    "## Combine Current and Previous-Past Data"
   ],
   "metadata": {}
  },
  {
   "cell_type": "code",
   "execution_count": null,
   "source": [
    "new_df = pd.concat([curr_df, prev_past_df]).sort_values(by=['DepartureDate'], ascending=True)\r\n",
    "\r\n",
    "new_df"
   ],
   "outputs": [],
   "metadata": {}
  },
  {
   "cell_type": "markdown",
   "source": [
    "## Combine Current and Previous-Future Data"
   ],
   "metadata": {}
  },
  {
   "cell_type": "code",
   "execution_count": null,
   "source": [
    "new_df = pd.concat([new_df, prev_future_df]).sort_values(by=['ReportID', 'DepartureID'], ascending=True).drop_duplicates(subset='DepartureID', keep='last').sort_values(by='DepartureDate', ascending=True)\r\n",
    "\r\n",
    "new_df"
   ],
   "outputs": [],
   "metadata": {}
  },
  {
   "cell_type": "markdown",
   "source": [
    "## Check Mixed Data"
   ],
   "metadata": {}
  },
  {
   "cell_type": "code",
   "execution_count": null,
   "source": [
    "# prof = pandas_profiling.ProfileReport(new_df)\r\n",
    "# prof.to_file(output_file='gate1_report.html')"
   ],
   "outputs": [],
   "metadata": {}
  },
  {
   "cell_type": "markdown",
   "source": [
    "## Export CSV"
   ],
   "metadata": {}
  },
  {
   "cell_type": "code",
   "execution_count": null,
   "source": [
    "new_df.drop(columns='ReportID', inplace=True)\r\n",
    "\r\n",
    "report_ID = new_df['DepartureDate'].apply(lambda x : None if x < datetime(year=2022, month=1, day=1, hour=0, minute=0) else report_ID_2022)\r\n",
    "new_df.insert(0, 'ReportID', report_ID)\r\n",
    "\r\n",
    "new_df.drop(columns='DepartureDate', inplace=True)\r\n",
    "new_df.set_index(['ReportID', 'DepartureID'], verify_integrity=True, inplace=True)\r\n",
    "\r\n",
    "new_df.to_csv(new_report_file)"
   ],
   "outputs": [],
   "metadata": {}
  }
 ],
 "metadata": {
  "language_info": {
   "name": "python",
   "version": "3.8.2",
   "mimetype": "text/x-python",
   "codemirror_mode": {
    "name": "ipython",
    "version": 3
   },
   "pygments_lexer": "ipython3",
   "nbconvert_exporter": "python",
   "file_extension": ".py"
  },
  "orig_nbformat": 2,
  "file_extension": ".py",
  "mimetype": "text/x-python",
  "name": "python",
  "npconvert_exporter": "python",
  "pygments_lexer": "ipython3",
  "version": 3,
  "kernelspec": {
   "name": "python3",
   "display_name": "Python 3.8.2 32-bit ('.venv': venv)"
  },
  "interpreter": {
   "hash": "b8ee509b47a9f1d1822afb1bbf7814957dd270597a3037792fa5460c2fc2fe4d"
  }
 },
 "nbformat": 4,
 "nbformat_minor": 2
}