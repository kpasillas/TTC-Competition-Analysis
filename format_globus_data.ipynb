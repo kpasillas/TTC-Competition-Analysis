{
 "cells": [
  {
   "cell_type": "markdown",
   "metadata": {},
   "source": [
    "# Globus Report (2020 & 2021)"
   ]
  },
  {
   "cell_type": "code",
   "execution_count": null,
   "metadata": {},
   "outputs": [],
   "source": [
    "import numpy as np\n",
    "import pandas as pd\n",
    "import pandas_profiling\n",
    "from datetime import datetime\n",
    "from matplotlib import pyplot as plt"
   ]
  },
  {
   "cell_type": "markdown",
   "metadata": {},
   "source": [
    "## Set Variables"
   ]
  },
  {
   "cell_type": "code",
   "execution_count": null,
   "metadata": {},
   "outputs": [],
   "source": [
    "report_ID_2020 = 2020091\n",
    "report_ID_2021 = 2021039\n",
    "today = datetime(year=2020, month=9, day=25)\n",
    "current_raw_file = 'Reports/globus_raw_data_09-18-20.csv'\n",
    "previous_report_file = 'Reports/globus_data_09-18-20.csv'\n",
    "new_report_file = 'Reports/globus_data_09-25-20.csv'"
   ]
  },
  {
   "cell_type": "markdown",
   "metadata": {},
   "source": [
    "## Build Current Data"
   ]
  },
  {
   "cell_type": "code",
   "execution_count": null,
   "metadata": {},
   "outputs": [],
   "source": [
    "curr_df = pd.read_csv(current_raw_file).drop_duplicates(subset=['DepartureID', 'field']).pivot(index='DepartureID', columns='field', values='value').reset_index()\n",
    "curr_df = curr_df[['DepartureID', 'DepartureDate', 'ActualPriceUSD', 'OriginalPriceUSD', 'Available', 'Status', 'Notes']]\n",
    "\n",
    "curr_df['DepartureDate'] = pd.to_datetime(curr_df['DepartureDate'], format='%d-%b-%Y')\n",
    "curr_df.sort_values(by=['DepartureDate'], ascending=True, inplace=True)\n",
    "curr_df = curr_df.loc[curr_df['DepartureDate'] < datetime(year=2022, month=1, day=1, hour=0, minute=0)]\n",
    "\n",
    "report_ID = curr_df['DepartureDate'].apply(lambda x : report_ID_2020 if x < datetime(year=2021, month=1, day=1, hour=0, minute=0) else report_ID_2021)\n",
    "\n",
    "curr_df.insert(0, 'ReportID', report_ID)\n",
    "curr_df.insert(5, 'ActualPriceAUD', np.NaN)\n",
    "curr_df.insert(6, 'OriginalPriceAUD', np.NaN)\n",
    "curr_df.insert(8, 'Type', '')\n",
    "curr_df.insert(10, 'Pax', np.NaN)\n",
    "\n",
    "curr_df['ActualPriceUSD'] = curr_df['ActualPriceUSD'].str.replace('$', '').astype(float)\n",
    "curr_df['OriginalPriceUSD'] = curr_df['OriginalPriceUSD'].str.replace('$', '').astype(float)\n",
    "\n",
    "# curr_df.dropna(subset=['Available'], inplace=True)\n",
    "booleanDictionary = {'True': True, 'False': False}\n",
    "curr_df['Available'] = curr_df['Available'].replace(booleanDictionary)\n",
    "\n",
    "curr_df"
   ]
  },
  {
   "cell_type": "markdown",
   "metadata": {},
   "source": [
    "## Build Previous Data"
   ]
  },
  {
   "cell_type": "code",
   "execution_count": null,
   "metadata": {},
   "outputs": [],
   "source": [
    "prev_df = pd.read_csv(previous_report_file)\n",
    "prev_df['ReportID'] = prev_df['ReportID'].astype(int)\n",
    "departure_code = prev_df['DepartureID'].str.split(pat='-', expand=True)[1]\n",
    "day_numbers = departure_code.str[0:2]\n",
    "get_char = lambda x : str(ord(x[2]) - 64)\n",
    "month_numbers = departure_code.apply(get_char)\n",
    "year_numbers = departure_code.str[3:5]\n",
    "departure_date = pd.to_datetime(day_numbers + '-' + month_numbers + '-' + year_numbers, format='%d-%m-%y')\n",
    "\n",
    "prev_df.insert(2, 'DepartureDate', departure_date)\n",
    "prev_df.sort_values(by=['DepartureDate'], ascending=True, inplace=True)\n",
    "\n",
    "prev_df['Notes'] = prev_df['Notes'].astype(str)\n",
    "prev_df['Notes'] = prev_df['Notes'].str.replace('nan', '')\n",
    "\n",
    "prev_df"
   ]
  },
  {
   "cell_type": "markdown",
   "metadata": {},
   "source": [
    "## Check Departure/Status Count (2020)"
   ]
  },
  {
   "cell_type": "code",
   "execution_count": null,
   "metadata": {},
   "outputs": [],
   "source": [
    "curr_plot_df = curr_df['DepartureID'].loc[curr_df['DepartureDate'].dt.year == 2020].groupby([curr_df['DepartureDate'].dt.month, curr_df['Status']]).count()\n",
    "prev_plot_df = prev_df['DepartureID'].loc[prev_df['DepartureDate'].dt.year == 2020].groupby([prev_df['DepartureDate'].dt.month, prev_df['Status']]).count()\n",
    "plot_df = pd.concat([prev_plot_df, curr_plot_df], axis=1)\n",
    "plot_df.columns = ['Previous', 'Current']\n",
    "plot_df = plot_df.unstack(level=-1, fill_value=0)\n",
    "\n",
    "\n",
    "months = plot_df.index\n",
    "month_labels = ['Jan', 'Feb', 'Mar', 'Apr', 'May', 'Jun', 'Jul', 'Aug', 'Sep', 'Oct', 'Nov', 'Dec']\n",
    "\n",
    "\n",
    "if 'Available' in plot_df['Previous'].columns:\n",
    "    previous_available_counts = plot_df['Previous']['Available']\n",
    "    previous_available_counts.loc[previous_available_counts.isna()] = 0\n",
    "else:\n",
    "    previous_available_counts = 0\n",
    "\n",
    "if 'Not Available' in plot_df['Previous'].columns:\n",
    "    previous_notavail_counts = plot_df['Previous']['Not Available']\n",
    "    previous_notavail_counts.loc[previous_notavail_counts.isna()] = 0\n",
    "else:\n",
    "    previous_notavail_counts = 0\n",
    "\n",
    "if 'Cancelled / Sold Out' in plot_df['Previous'].columns:\n",
    "    previous_removed_counts = plot_df['Previous']['Cancelled / Sold Out']\n",
    "    previous_removed_counts.loc[previous_removed_counts.isna()] = 0\n",
    "else:\n",
    "    previous_removed_counts = 0\n",
    "\n",
    "\n",
    "if 'Available' in plot_df['Current'].columns:\n",
    "    current_available_counts = plot_df['Current']['Available']\n",
    "    current_available_counts.loc[current_available_counts.isna()] = 0\n",
    "else:\n",
    "    current_available_counts = 0\n",
    "\n",
    "if 'Not Available' in plot_df['Current'].columns:\n",
    "    current_notavail_counts = plot_df['Current']['Not Available']\n",
    "    current_notavail_counts.loc[current_notavail_counts.isna()] = 0\n",
    "else:\n",
    "    current_notavail_counts = 0\n",
    "\n",
    "if 'Cancelled / Sold Out' in plot_df['Current'].columns:\n",
    "    current_removed_counts = plot_df['Current']['Cancelled / Sold Out']\n",
    "    current_removed_counts.loc[current_removed_counts.isna()] = 0\n",
    "else:\n",
    "    current_removed_counts = 0\n",
    "\n",
    "\n",
    "plt.style.use('fivethirtyeight')\n",
    "width = 0.35\n",
    "fig, ax = plt.subplots()\n",
    "\n",
    "ax.bar(months - width/2, previous_available_counts, width=width, color='#1666BE', label='Available')\n",
    "ax.bar(months - width/2, previous_notavail_counts, width=width, color='#A4A49C', bottom=previous_available_counts, label='Not Available')\n",
    "ax.bar(months - width/2, previous_removed_counts, width=width, color='#AD1E45', bottom=previous_available_counts + previous_notavail_counts, label='Removed from Website')\n",
    "\n",
    "ax.bar(months + width/2, current_available_counts, width=width, color='#1666BE')\n",
    "ax.bar(months + width/2, current_notavail_counts, width=width, color='#A4A49C', bottom=current_available_counts)\n",
    "ax.bar(months - width/2, current_removed_counts, width=width, color='#AD1E45', bottom=current_available_counts + current_notavail_counts)\n",
    "\n",
    "plt.xticks(ticks=months, labels=month_labels)\n",
    "plt.legend()\n",
    "plt.show()"
   ]
  },
  {
   "source": [
    "## Check Departure/Status Count (2021)"
   ],
   "cell_type": "markdown",
   "metadata": {}
  },
  {
   "cell_type": "code",
   "execution_count": null,
   "metadata": {},
   "outputs": [],
   "source": [
    "curr_plot_df = curr_df['DepartureID'].loc[curr_df['DepartureDate'].dt.year == 2021].groupby([curr_df['DepartureDate'].dt.month, curr_df['Status']]).count()\n",
    "prev_plot_df = prev_df['DepartureID'].loc[prev_df['DepartureDate'].dt.year == 2021].groupby([prev_df['DepartureDate'].dt.month, prev_df['Status']]).count()\n",
    "plot_df = pd.concat([prev_plot_df, curr_plot_df], axis=1)\n",
    "plot_df.columns = ['Previous', 'Current']\n",
    "plot_df = plot_df.unstack(level=-1, fill_value=0)\n",
    "\n",
    "\n",
    "months = plot_df.index\n",
    "month_labels = ['Jan', 'Feb', 'Mar', 'Apr', 'May', 'Jun', 'Jul', 'Aug', 'Sep', 'Oct', 'Nov', 'Dec']\n",
    "\n",
    "\n",
    "if 'Available' in plot_df['Previous'].columns:\n",
    "    previous_available_counts = plot_df['Previous']['Available']\n",
    "    previous_available_counts.loc[previous_available_counts.isna()] = 0\n",
    "else:\n",
    "    previous_available_counts = 0\n",
    "\n",
    "if 'Not Available' in plot_df['Previous'].columns:\n",
    "    previous_notavail_counts = plot_df['Previous']['Not Available']\n",
    "    previous_notavail_counts.loc[previous_notavail_counts.isna()] = 0\n",
    "else:\n",
    "    previous_notavail_counts = 0\n",
    "\n",
    "if 'Cancelled / Sold Out' in plot_df['Previous'].columns:\n",
    "    previous_removed_counts = plot_df['Previous']['Cancelled / Sold Out']\n",
    "    previous_removed_counts.loc[previous_removed_counts.isna()] = 0\n",
    "else:\n",
    "    previous_removed_counts = 0\n",
    "\n",
    "\n",
    "if 'Available' in plot_df['Current'].columns:\n",
    "    current_available_counts = plot_df['Current']['Available']\n",
    "    current_available_counts.loc[current_available_counts.isna()] = 0\n",
    "else:\n",
    "    current_available_counts = 0\n",
    "\n",
    "if 'Not Available' in plot_df['Current'].columns:\n",
    "    current_notavail_counts = plot_df['Current']['Not Available']\n",
    "    current_notavail_counts.loc[current_notavail_counts.isna()] = 0\n",
    "else:\n",
    "    current_notavail_counts = 0\n",
    "\n",
    "if 'Cancelled / Sold Out' in plot_df['Current'].columns:\n",
    "    current_removed_counts = plot_df['Current']['Cancelled / Sold Out']\n",
    "    current_removed_counts.loc[current_removed_counts.isna()] = 0\n",
    "else:\n",
    "    current_removed_counts = 0\n",
    "\n",
    "\n",
    "plt.style.use('fivethirtyeight')\n",
    "width = 0.35\n",
    "fig, ax = plt.subplots()\n",
    "\n",
    "ax.bar(months - width/2, previous_available_counts, width=width, color='#1666BE', label='Available')\n",
    "ax.bar(months - width/2, previous_notavail_counts, width=width, color='#A4A49C', bottom=previous_available_counts, label='Not Available')\n",
    "ax.bar(months - width/2, previous_removed_counts, width=width, color='#AD1E45', bottom=previous_available_counts + previous_notavail_counts, label='Removed from Website')\n",
    "\n",
    "ax.bar(months + width/2, current_available_counts, width=width, color='#1666BE')\n",
    "ax.bar(months + width/2, current_notavail_counts, width=width, color='#A4A49C', bottom=current_available_counts)\n",
    "ax.bar(months - width/2, current_removed_counts, width=width, color='#AD1E45', bottom=current_available_counts + current_notavail_counts)\n",
    "\n",
    "plt.xticks(ticks=months, labels=month_labels)\n",
    "plt.legend()\n",
    "plt.show()"
   ]
  },
  {
   "cell_type": "markdown",
   "metadata": {},
   "source": [
    "## Check Departure/Status Changes"
   ]
  },
  {
   "cell_type": "code",
   "execution_count": null,
   "metadata": {},
   "outputs": [],
   "source": [
    "curr_status_df = curr_df[['DepartureID', 'DepartureDate', 'Status']].set_index(['DepartureID', 'DepartureDate'])\n",
    "prev_status_df = prev_df[['DepartureID', 'DepartureDate', 'Status']].set_index(['DepartureID', 'DepartureDate'])\n",
    "status_df = pd.concat([prev_status_df, curr_status_df], axis=1).reset_index('DepartureDate').sort_values(by='DepartureDate')\n",
    "status_df.columns = ['DepartureDate', 'Previous', 'Current']"
   ]
  },
  {
   "cell_type": "markdown",
   "metadata": {},
   "source": [
    "### New Departures"
   ]
  },
  {
   "cell_type": "code",
   "execution_count": null,
   "metadata": {},
   "outputs": [],
   "source": [
    "new_departures = status_df.loc[status_df['Previous'].isna()]\n",
    "\n",
    "new_departures"
   ]
  },
  {
   "source": [
    "### Export New Departures"
   ],
   "cell_type": "markdown",
   "metadata": {}
  },
  {
   "cell_type": "code",
   "execution_count": null,
   "metadata": {
    "tags": []
   },
   "outputs": [],
   "source": [
    "if new_departures.empty:\n",
    "    print('No new departures...')\n",
    "else:\n",
    "    export_departures = new_departures['DepartureDate'].reset_index()\n",
    "    split_id = export_departures['DepartureID'].str.split(\"-\", expand=True)\n",
    "    export_departures.insert(1, 'OpCode', split_id[0])\n",
    "    export_departures.insert(2, 'DepartureCode', split_id[1])\n",
    "    export_departures.insert(4, 'Season', export_departures['DepartureDate'].dt.year)\n",
    "    export_departures.set_index('DepartureID', inplace=True)\n",
    "\n",
    "    export_departures.to_csv('collette_new_departures.csv')"
   ]
  },
  {
   "cell_type": "markdown",
   "metadata": {},
   "source": [
    "### Removed Departures"
   ]
  },
  {
   "cell_type": "code",
   "execution_count": null,
   "metadata": {},
   "outputs": [],
   "source": [
    "removed_departures = status_df.loc[(status_df['Current'].isna()) & (status_df['DepartureDate'] > today)]\n",
    "\n",
    "removed_departures"
   ]
  },
  {
   "cell_type": "markdown",
   "metadata": {},
   "source": [
    "### Status Changes"
   ]
  },
  {
   "cell_type": "code",
   "execution_count": null,
   "metadata": {},
   "outputs": [],
   "source": [
    "changed_departures = status_df.loc[(status_df['Previous'] != status_df['Current']) & (status_df['Current'].notna())]\n",
    "\n",
    "changed_departures"
   ]
  },
  {
   "cell_type": "markdown",
   "metadata": {},
   "source": [
    "## Filter Previous-Past Departures\n",
    "\n",
    "### Departure date < Today"
   ]
  },
  {
   "cell_type": "code",
   "execution_count": null,
   "metadata": {},
   "outputs": [],
   "source": [
    "prev_past_df = prev_df[prev_df['DepartureDate'] <= today].sort_values(by=['DepartureDate'], ascending=True)\n",
    "\n",
    "prev_past_df"
   ]
  },
  {
   "cell_type": "markdown",
   "metadata": {},
   "source": [
    "## Filter Previous-Future Departures\n",
    "\n",
    "### Departure date > Today\n",
    "#### If previously 'Available' --> Status = 'Cancelled / Sold Out'"
   ]
  },
  {
   "cell_type": "code",
   "execution_count": null,
   "metadata": {},
   "outputs": [],
   "source": [
    "prev_future_df = prev_df.loc[prev_df['DepartureDate'] >= today].sort_values(by=['DepartureDate'], ascending=True)\n",
    "filt = (prev_future_df['Available'] == True)\n",
    "prev_future_df.loc[filt, ['Available', 'Status', 'Notes']] = [False, 'Cancelled / Sold Out', 'Removed from website']\n",
    "\n",
    "prev_future_df"
   ]
  },
  {
   "cell_type": "markdown",
   "metadata": {},
   "source": [
    "## Combine Current and Previous-Past Data"
   ]
  },
  {
   "cell_type": "code",
   "execution_count": null,
   "metadata": {},
   "outputs": [],
   "source": [
    "new_df = pd.concat([curr_df, prev_past_df]).sort_values(by=['DepartureDate'], ascending=True)\n",
    "\n",
    "new_df"
   ]
  },
  {
   "cell_type": "markdown",
   "metadata": {},
   "source": [
    "## Combine Current and Previous-Future Data"
   ]
  },
  {
   "cell_type": "code",
   "execution_count": null,
   "metadata": {},
   "outputs": [],
   "source": [
    "new_df = pd.concat([new_df, prev_future_df]).sort_values(by=['ReportID', 'DepartureID'], ascending=True).drop_duplicates(subset='DepartureID', keep='last').sort_values(by='DepartureDate', ascending=True)\n",
    "\n",
    "new_df"
   ]
  },
  {
   "cell_type": "markdown",
   "metadata": {},
   "source": [
    "## Check Mixed Data"
   ]
  },
  {
   "cell_type": "code",
   "execution_count": null,
   "metadata": {},
   "outputs": [],
   "source": [
    "# prof = pandas_profiling.ProfileReport(new_df)\n",
    "# prof.to_file(output_file='gate1_report.html')"
   ]
  },
  {
   "cell_type": "markdown",
   "metadata": {},
   "source": [
    "## Export CSV"
   ]
  },
  {
   "cell_type": "code",
   "execution_count": null,
   "metadata": {},
   "outputs": [],
   "source": [
    "new_df.drop(columns='ReportID', inplace=True)\n",
    "\n",
    "report_ID = new_df['DepartureDate'].apply(lambda x : report_ID_2020 if x < datetime(year=2021, month=1, day=1, hour=0, minute=0) else report_ID_2021)\n",
    "new_df.insert(0, 'ReportID', report_ID)\n",
    "\n",
    "new_df.drop(columns='DepartureDate', inplace=True)\n",
    "new_df.set_index(['ReportID', 'DepartureID'], verify_integrity=True, inplace=True)\n",
    "\n",
    "new_df.to_csv(new_report_file)"
   ]
  }
 ],
 "metadata": {
  "language_info": {
   "name": "python",
   "codemirror_mode": {
    "name": "ipython",
    "version": 3
   },
   "version": "3.7.4-final"
  },
  "orig_nbformat": 2,
  "file_extension": ".py",
  "mimetype": "text/x-python",
  "name": "python",
  "npconvert_exporter": "python",
  "pygments_lexer": "ipython3",
  "version": 3,
  "kernelspec": {
   "name": "python37464bitvenvvenv0c595150e4404137ab8afb1a03cf4303",
   "display_name": "Python 3.7.4 64-bit ('.venv': venv)"
  }
 },
 "nbformat": 4,
 "nbformat_minor": 2
}